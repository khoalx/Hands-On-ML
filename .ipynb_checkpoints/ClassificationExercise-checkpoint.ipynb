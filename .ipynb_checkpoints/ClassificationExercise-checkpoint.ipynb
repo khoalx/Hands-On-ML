{
 "cells": [
  {
   "cell_type": "markdown",
   "metadata": {},
   "source": [
    "# 1. 对MNIST测试超过97%准确率"
   ]
  },
  {
   "cell_type": "code",
   "execution_count": 1,
   "metadata": {},
   "outputs": [],
   "source": [
    "from sklearn.datasets import fetch_openml\n",
    "mnist = fetch_openml('mnist_784',version=1)"
   ]
  },
  {
   "cell_type": "code",
   "execution_count": 2,
   "metadata": {},
   "outputs": [
    {
     "data": {
      "text/plain": [
       "dict_keys(['data', 'target', 'feature_names', 'DESCR', 'details', 'categories', 'url'])"
      ]
     },
     "execution_count": 2,
     "metadata": {},
     "output_type": "execute_result"
    }
   ],
   "source": [
    "mnist.keys()"
   ]
  },
  {
   "cell_type": "code",
   "execution_count": 3,
   "metadata": {},
   "outputs": [],
   "source": [
    "X,y = mnist[\"data\"],mnist[\"target\"]\n",
    "X_train,X_test,y_train,y_test=X[:60000],X[60000:],y[:60000],y[60000:]"
   ]
  },
  {
   "cell_type": "code",
   "execution_count": 4,
   "metadata": {},
   "outputs": [],
   "source": [
    "import datetime\n",
    "s_time = datetime.datetime.now()"
   ]
  },
  {
   "cell_type": "code",
   "execution_count": 5,
   "metadata": {},
   "outputs": [
    {
     "name": "stdout",
     "output_type": "stream",
     "text": [
      "Fitting 5 folds for each of 6 candidates, totalling 30 fits\n"
     ]
    },
    {
     "name": "stderr",
     "output_type": "stream",
     "text": [
      "[Parallel(n_jobs=-1)]: Using backend LokyBackend with 4 concurrent workers.\n",
      "[Parallel(n_jobs=-1)]: Done  30 out of  30 | elapsed: 113.6min finished\n"
     ]
    },
    {
     "data": {
      "text/plain": [
       "GridSearchCV(cv=5, error_score='raise-deprecating',\n",
       "             estimator=KNeighborsClassifier(algorithm='auto', leaf_size=30,\n",
       "                                            metric='minkowski',\n",
       "                                            metric_params=None, n_jobs=None,\n",
       "                                            n_neighbors=5, p=2,\n",
       "                                            weights='uniform'),\n",
       "             iid='warn', n_jobs=-1,\n",
       "             param_grid=[{'n_neighbors': [3, 4, 5],\n",
       "                          'weights': ['uniform', 'distance']}],\n",
       "             pre_dispatch='2*n_jobs', refit=True, return_train_score=False,\n",
       "             scoring=None, verbose=3)"
      ]
     },
     "execution_count": 5,
     "metadata": {},
     "output_type": "execute_result"
    }
   ],
   "source": [
    "from sklearn.model_selection import GridSearchCV\n",
    "from sklearn.neighbors import KNeighborsClassifier\n",
    "\n",
    "param_grid = [{'weights': [\"uniform\", \"distance\"], 'n_neighbors': [3, 4, 5]}]\n",
    "\n",
    "knn_clf = KNeighborsClassifier()\n",
    "grid_search = GridSearchCV(knn_clf, param_grid, n_jobs=-1,cv=5, verbose=3)\n",
    "grid_search.fit(X_train, y_train)"
   ]
  },
  {
   "cell_type": "code",
   "execution_count": 6,
   "metadata": {},
   "outputs": [
    {
     "name": "stdout",
     "output_type": "stream",
     "text": [
      "1:54:32.875000\n"
     ]
    }
   ],
   "source": [
    "e_time = datetime.datetime.now()\n",
    "print(e_time-s_time)"
   ]
  },
  {
   "cell_type": "code",
   "execution_count": 7,
   "metadata": {},
   "outputs": [
    {
     "data": {
      "text/plain": [
       "{'n_neighbors': 4, 'weights': 'distance'}"
      ]
     },
     "execution_count": 7,
     "metadata": {},
     "output_type": "execute_result"
    }
   ],
   "source": [
    "grid_search.best_params_"
   ]
  },
  {
   "cell_type": "code",
   "execution_count": 8,
   "metadata": {},
   "outputs": [
    {
     "data": {
      "text/plain": [
       "0.9716166666666667"
      ]
     },
     "execution_count": 8,
     "metadata": {},
     "output_type": "execute_result"
    }
   ],
   "source": [
    "grid_search.best_score_"
   ]
  },
  {
   "cell_type": "code",
   "execution_count": 9,
   "metadata": {},
   "outputs": [
    {
     "data": {
      "text/plain": [
       "0.9714"
      ]
     },
     "execution_count": 9,
     "metadata": {},
     "output_type": "execute_result"
    }
   ],
   "source": [
    "from sklearn.metrics import accuracy_score\n",
    "\n",
    "y_pred = grid_search.predict(X_test)\n",
    "accuracy_score(y_test, y_pred)"
   ]
  },
  {
   "cell_type": "markdown",
   "metadata": {},
   "source": [
    "# 测试scipy.ndimage"
   ]
  },
  {
   "cell_type": "code",
   "execution_count": 15,
   "metadata": {},
   "outputs": [],
   "source": [
    "import matplotlib.pyplot as plt\n",
    "import matplotlib as mpl\n",
    "\n",
    "def plot_digit(data):\n",
    "    image = data.reshape(28, 28)\n",
    "    plt.imshow(image, cmap = mpl.cm.binary,\n",
    "               interpolation=\"nearest\")\n",
    "    plt.axis(\"off\")\n",
    "some_digit = X[0]"
   ]
  },
  {
   "cell_type": "code",
   "execution_count": 26,
   "metadata": {},
   "outputs": [
    {
     "data": {
      "image/png": "[encoded data removed]",
      "text/plain": [
       "<Figure size 432x288 with 1 Axes>"
      ]
     },
     "metadata": {
      "needs_background": "light"
     },
     "output_type": "display_data"
    }
   ],
   "source": [
    "from scipy.ndimage.interpolation import shift\n",
    "\n",
    "def shift_digit(digit_array, dx, dy, new=0):#为何【dy,dx】反着\n",
    "    return shift(digit_array.reshape(28, 28), [dy, dx], cval=new).reshape(784)\n",
    "\n",
    "plot_digit(shift_digit(some_digit, 5, 1, new=100))"
   ]
  },
  {
   "cell_type": "code",
   "execution_count": 28,
   "metadata": {},
   "outputs": [
    {
     "data": {
      "text/plain": [
       "((300000, 784), (300000,))"
      ]
     },
     "execution_count": 28,
     "metadata": {},
     "output_type": "execute_result"
    }
   ],
   "source": [
    "import numpy as np\n",
    "X_train_expanded = [X_train]\n",
    "y_train_expanded = [y_train]\n",
    "for dx, dy in ((1, 0), (-1, 0), (0, 1), (0, -1)):\n",
    "    shifted_images = np.apply_along_axis(shift_digit, axis=1, arr=X_train, dx=dx, dy=dy)\n",
    "    X_train_expanded.append(shifted_images)\n",
    "    y_train_expanded.append(y_train)\n",
    "\n",
    "X_train_expanded = np.concatenate(X_train_expanded)\n",
    "y_train_expanded = np.concatenate(y_train_expanded)\n",
    "X_train_expanded.shape, y_train_expanded.shape"
   ]
  },
  {
   "cell_type": "code",
   "execution_count": 31,
   "metadata": {},
   "outputs": [
    {
     "data": {
      "text/plain": [
       "KNeighborsClassifier(algorithm='auto', leaf_size=30, metric='minkowski',\n",
       "                     metric_params=None, n_jobs=None, n_neighbors=5, p=2,\n",
       "                     weights='uniform')"
      ]
     },
     "execution_count": 31,
     "metadata": {},
     "output_type": "execute_result"
    }
   ],
   "source": [
    "knn_clf.fit(X_train_expanded, y_train_expanded)"
   ]
  },
  {
   "cell_type": "code",
   "execution_count": 32,
   "metadata": {},
   "outputs": [],
   "source": [
    "y_knn_expanded_pred = knn_clf.predict(X_test)"
   ]
  },
  {
   "cell_type": "code",
   "execution_count": 33,
   "metadata": {},
   "outputs": [
    {
     "data": {
      "text/plain": [
       "0.9754"
      ]
     },
     "execution_count": 33,
     "metadata": {},
     "output_type": "execute_result"
    }
   ],
   "source": [
    "accuracy_score(y_test, y_knn_expanded_pred)"
   ]
  },
  {
   "cell_type": "code",
   "execution_count": 38,
   "metadata": {},
   "outputs": [
    {
     "data": {
      "text/plain": [
       "array([[0., 0., 0., 1., 0., 0., 0., 0., 0., 0.]])"
      ]
     },
     "execution_count": 38,
     "metadata": {},
     "output_type": "execute_result"
    }
   ],
   "source": [
    "ambiguous_digit = X_test[213]\n",
    "knn_clf.predict_proba([ambiguous_digit])"
   ]
  },
  {
   "cell_type": "code",
   "execution_count": 39,
   "metadata": {},
   "outputs": [
    {
     "data": {
      "image/png": "[encoded data removed]",
      "text/plain": [
       "<Figure size 432x288 with 1 Axes>"
      ]
     },
     "metadata": {
      "needs_background": "light"
     },
     "output_type": "display_data"
    }
   ],
   "source": [
    "plot_digit(ambiguous_digit)"
   ]
  },
  {
   "cell_type": "markdown",
   "metadata": {},
   "source": [
    "# 2. 训练集扩展"
   ]
  },
  {
   "cell_type": "code",
   "execution_count": 40,
   "metadata": {},
   "outputs": [],
   "source": [
    "from scipy.ndimage.interpolation import shift"
   ]
  },
  {
   "cell_type": "code",
   "execution_count": 42,
   "metadata": {},
   "outputs": [],
   "source": [
    "def shift_image(image, dx, dy):\n",
    "    image = image.reshape((28, 28))\n",
    "    shifted_image = shift(image, [dy, dx], cval=0, mode=\"constant\")\n",
    "    return shifted_image.reshape([-1])#转换成行"
   ]
  },
  {
   "cell_type": "code",
   "execution_count": 45,
   "metadata": {},
   "outputs": [
    {
     "data": {
      "text/plain": [
       "(784,)"
      ]
     },
     "execution_count": 45,
     "metadata": {},
     "output_type": "execute_result"
    }
   ],
   "source": [
    "image = X_train[1000]\n",
    "shifted_image_down = shift_image(image, 0, 5)\n",
    "shifted_image_down.shape"
   ]
  },
  {
   "cell_type": "code",
   "execution_count": 46,
   "metadata": {},
   "outputs": [
    {
     "data": {
      "image/png": "[encoded data removed]",
      "text/plain": [
       "<Figure size 864x216 with 3 Axes>"
      ]
     },
     "metadata": {
      "needs_background": "light"
     },
     "output_type": "display_data"
    }
   ],
   "source": [
    "shifted_image_left = shift_image(image, -5, 0)\n",
    "\n",
    "plt.figure(figsize=(12,3))\n",
    "plt.subplot(131)\n",
    "plt.title(\"Original\", fontsize=14)\n",
    "plt.imshow(image.reshape(28, 28), interpolation=\"nearest\", cmap=\"Greys\")\n",
    "plt.subplot(132)\n",
    "plt.title(\"Shifted down\", fontsize=14)\n",
    "plt.imshow(shifted_image_down.reshape(28, 28), interpolation=\"nearest\", cmap=\"Greys\")\n",
    "plt.subplot(133)\n",
    "plt.title(\"Shifted left\", fontsize=14)\n",
    "plt.imshow(shifted_image_left.reshape(28, 28), interpolation=\"nearest\", cmap=\"Greys\")\n",
    "plt.show()"
   ]
  },
  {
   "cell_type": "code",
   "execution_count": 47,
   "metadata": {},
   "outputs": [],
   "source": [
    "X_train_augmented = [image for image in X_train]\n",
    "y_train_augmented = [label for label in y_train]\n",
    "\n",
    "for dx, dy in ((1, 0), (-1, 0), (0, 1), (0, -1)):\n",
    "    for image, label in zip(X_train, y_train):\n",
    "        X_train_augmented.append(shift_image(image, dx, dy))\n",
    "        y_train_augmented.append(label)\n",
    "\n",
    "X_train_augmented = np.array(X_train_augmented)\n",
    "y_train_augmented = np.array(y_train_augmented)"
   ]
  },
  {
   "cell_type": "code",
   "execution_count": 49,
   "metadata": {},
   "outputs": [
    {
     "data": {
      "text/plain": [
       "(300000, 784)"
      ]
     },
     "execution_count": 49,
     "metadata": {},
     "output_type": "execute_result"
    }
   ],
   "source": [
    "X_train_augmented.shape"
   ]
  },
  {
   "cell_type": "code",
   "execution_count": 50,
   "metadata": {},
   "outputs": [],
   "source": [
    "shuffle_idx = np.random.permutation(len(X_train_augmented))#打散数据集，随机排列"
   ]
  },
  {
   "cell_type": "code",
   "execution_count": 54,
   "metadata": {},
   "outputs": [
    {
     "data": {
      "text/plain": [
       "(300000,)"
      ]
     },
     "execution_count": 54,
     "metadata": {},
     "output_type": "execute_result"
    }
   ],
   "source": [
    "shuffle_idx.shape"
   ]
  },
  {
   "cell_type": "code",
   "execution_count": 57,
   "metadata": {},
   "outputs": [],
   "source": [
    "X_train_augmented = X_train_augmented[shuffle_idx]#打散数据集，随机排列\n",
    "y_train_augmented = y_train_augmented[shuffle_idx]#打散数据集，随机排列"
   ]
  },
  {
   "cell_type": "code",
   "execution_count": 58,
   "metadata": {},
   "outputs": [
    {
     "data": {
      "text/plain": [
       "(300000, 784)"
      ]
     },
     "execution_count": 58,
     "metadata": {},
     "output_type": "execute_result"
    }
   ],
   "source": [
    "X_train_augmented.shape"
   ]
  },
  {
   "cell_type": "code",
   "execution_count": 59,
   "metadata": {},
   "outputs": [],
   "source": [
    "knn_clf = KNeighborsClassifier(**grid_search.best_params_)"
   ]
  },
  {
   "cell_type": "code",
   "execution_count": 60,
   "metadata": {},
   "outputs": [
    {
     "name": "stdout",
     "output_type": "stream",
     "text": [
      "0:01:18.208000\n"
     ]
    }
   ],
   "source": [
    "s_time = datetime.datetime.now()\n",
    "knn_clf.fit(X_train_augmented, y_train_augmented)\n",
    "e_time = datetime.datetime.now()\n",
    "print(e_time-s_time)"
   ]
  },
  {
   "cell_type": "code",
   "execution_count": 61,
   "metadata": {},
   "outputs": [
    {
     "data": {
      "text/plain": [
       "0.9763"
      ]
     },
     "execution_count": 61,
     "metadata": {},
     "output_type": "execute_result"
    }
   ],
   "source": [
    "y_pred = knn_clf.predict(X_test)\n",
    "accuracy_score(y_test, y_pred)"
   ]
  },
  {
   "cell_type": "markdown",
   "metadata": {},
   "source": [
    "##### 此处运行了较长时间，但是未打印时间"
   ]
  },
  {
   "cell_type": "markdown",
   "metadata": {},
   "source": [
    "# 3. 泰坦尼克求生预测"
   ]
  },
  {
   "cell_type": "code",
   "execution_count": 1,
   "metadata": {},
   "outputs": [],
   "source": [
    "import os\n",
    "\n",
    "TITANIC_PATH = os.path.join(\"datasets\", \"titanic\")"
   ]
  },
  {
   "cell_type": "code",
   "execution_count": 2,
   "metadata": {},
   "outputs": [],
   "source": [
    "import pandas as pd\n",
    "\n",
    "def load_titanic_data(filename, titanic_path=TITANIC_PATH):\n",
    "    csv_path = os.path.join(titanic_path, filename)\n",
    "    return pd.read_csv(csv_path)"
   ]
  },
  {
   "cell_type": "code",
   "execution_count": 3,
   "metadata": {},
   "outputs": [],
   "source": [
    "train_data = load_titanic_data(\"train.csv\")\n",
    "test_data = load_titanic_data(\"test.csv\")"
   ]
  },
  {
   "cell_type": "code",
   "execution_count": 4,
   "metadata": {},
   "outputs": [
    {
     "data": {
      "text/html": [
       "<div>\n",
       "<style scoped>\n",
       "    .dataframe tbody tr th:only-of-type {\n",
       "        vertical-align: middle;\n",
       "    }\n",
       "\n",
       "    .dataframe tbody tr th {\n",
       "        vertical-align: top;\n",
       "    }\n",
       "\n",
       "    .dataframe thead th {\n",
       "        text-align: right;\n",
       "    }\n",
       "</style>\n",
       "<table border=\"1\" class=\"dataframe\">\n",
       "  <thead>\n",
       "    <tr style=\"text-align: right;\">\n",
       "      <th></th>\n",
       "      <th>PassengerId</th>\n",
       "      <th>Survived</th>\n",
       "      <th>Pclass</th>\n",
       "      <th>Name</th>\n",
       "      <th>Sex</th>\n",
       "      <th>Age</th>\n",
       "      <th>SibSp</th>\n",
       "      <th>Parch</th>\n",
       "      <th>Ticket</th>\n",
       "      <th>Fare</th>\n",
       "      <th>Cabin</th>\n",
       "      <th>Embarked</th>\n",
       "    </tr>\n",
       "  </thead>\n",
       "  <tbody>\n",
       "    <tr>\n",
       "      <th>0</th>\n",
       "      <td>1</td>\n",
       "      <td>0</td>\n",
       "      <td>3</td>\n",
       "      <td>Braund, Mr. Owen Harris</td>\n",
       "      <td>male</td>\n",
       "      <td>22.0</td>\n",
       "      <td>1</td>\n",
       "      <td>0</td>\n",
       "      <td>A/5 21171</td>\n",
       "      <td>7.2500</td>\n",
       "      <td>NaN</td>\n",
       "      <td>S</td>\n",
       "    </tr>\n",
       "    <tr>\n",
       "      <th>1</th>\n",
       "      <td>2</td>\n",
       "      <td>1</td>\n",
       "      <td>1</td>\n",
       "      <td>Cumings, Mrs. John Bradley (Florence Briggs Th...</td>\n",
       "      <td>female</td>\n",
       "      <td>38.0</td>\n",
       "      <td>1</td>\n",
       "      <td>0</td>\n",
       "      <td>PC 17599</td>\n",
       "      <td>71.2833</td>\n",
       "      <td>C85</td>\n",
       "      <td>C</td>\n",
       "    </tr>\n",
       "    <tr>\n",
       "      <th>2</th>\n",
       "      <td>3</td>\n",
       "      <td>1</td>\n",
       "      <td>3</td>\n",
       "      <td>Heikkinen, Miss. Laina</td>\n",
       "      <td>female</td>\n",
       "      <td>26.0</td>\n",
       "      <td>0</td>\n",
       "      <td>0</td>\n",
       "      <td>STON/O2. 3101282</td>\n",
       "      <td>7.9250</td>\n",
       "      <td>NaN</td>\n",
       "      <td>S</td>\n",
       "    </tr>\n",
       "    <tr>\n",
       "      <th>3</th>\n",
       "      <td>4</td>\n",
       "      <td>1</td>\n",
       "      <td>1</td>\n",
       "      <td>Futrelle, Mrs. Jacques Heath (Lily May Peel)</td>\n",
       "      <td>female</td>\n",
       "      <td>35.0</td>\n",
       "      <td>1</td>\n",
       "      <td>0</td>\n",
       "      <td>113803</td>\n",
       "      <td>53.1000</td>\n",
       "      <td>C123</td>\n",
       "      <td>S</td>\n",
       "    </tr>\n",
       "    <tr>\n",
       "      <th>4</th>\n",
       "      <td>5</td>\n",
       "      <td>0</td>\n",
       "      <td>3</td>\n",
       "      <td>Allen, Mr. William Henry</td>\n",
       "      <td>male</td>\n",
       "      <td>35.0</td>\n",
       "      <td>0</td>\n",
       "      <td>0</td>\n",
       "      <td>373450</td>\n",
       "      <td>8.0500</td>\n",
       "      <td>NaN</td>\n",
       "      <td>S</td>\n",
       "    </tr>\n",
       "  </tbody>\n",
       "</table>\n",
       "</div>"
      ],
      "text/plain": [
       "   PassengerId  Survived  Pclass  \\\n",
       "0            1         0       3   \n",
       "1            2         1       1   \n",
       "2            3         1       3   \n",
       "3            4         1       1   \n",
       "4            5         0       3   \n",
       "\n",
       "                                                Name     Sex   Age  SibSp  \\\n",
       "0                            Braund, Mr. Owen Harris    male  22.0      1   \n",
       "1  Cumings, Mrs. John Bradley (Florence Briggs Th...  female  38.0      1   \n",
       "2                             Heikkinen, Miss. Laina  female  26.0      0   \n",
       "3       Futrelle, Mrs. Jacques Heath (Lily May Peel)  female  35.0      1   \n",
       "4                           Allen, Mr. William Henry    male  35.0      0   \n",
       "\n",
       "   Parch            Ticket     Fare Cabin Embarked  \n",
       "0      0         A/5 21171   7.2500   NaN        S  \n",
       "1      0          PC 17599  71.2833   C85        C  \n",
       "2      0  STON/O2. 3101282   7.9250   NaN        S  \n",
       "3      0            113803  53.1000  C123        S  \n",
       "4      0            373450   8.0500   NaN        S  "
      ]
     },
     "execution_count": 4,
     "metadata": {},
     "output_type": "execute_result"
    }
   ],
   "source": [
    "train_data.head()"
   ]
  },
  {
   "cell_type": "code",
   "execution_count": 6,
   "metadata": {},
   "outputs": [
    {
     "name": "stdout",
     "output_type": "stream",
     "text": [
      "<class 'pandas.core.frame.DataFrame'>\n",
      "RangeIndex: 891 entries, 0 to 890\n",
      "Data columns (total 12 columns):\n",
      "PassengerId    891 non-null int64\n",
      "Survived       891 non-null int64\n",
      "Pclass         891 non-null int64\n",
      "Name           891 non-null object\n",
      "Sex            891 non-null object\n",
      "Age            714 non-null float64\n",
      "SibSp          891 non-null int64\n",
      "Parch          891 non-null int64\n",
      "Ticket         891 non-null object\n",
      "Fare           891 non-null float64\n",
      "Cabin          204 non-null object\n",
      "Embarked       889 non-null object\n",
      "dtypes: float64(2), int64(5), object(5)\n",
      "memory usage: 83.6+ KB\n"
     ]
    }
   ],
   "source": [
    "train_data.info()"
   ]
  },
  {
   "cell_type": "code",
   "execution_count": 7,
   "metadata": {},
   "outputs": [
    {
     "data": {
      "text/html": [
       "<div>\n",
       "<style scoped>\n",
       "    .dataframe tbody tr th:only-of-type {\n",
       "        vertical-align: middle;\n",
       "    }\n",
       "\n",
       "    .dataframe tbody tr th {\n",
       "        vertical-align: top;\n",
       "    }\n",
       "\n",
       "    .dataframe thead th {\n",
       "        text-align: right;\n",
       "    }\n",
       "</style>\n",
       "<table border=\"1\" class=\"dataframe\">\n",
       "  <thead>\n",
       "    <tr style=\"text-align: right;\">\n",
       "      <th></th>\n",
       "      <th>PassengerId</th>\n",
       "      <th>Survived</th>\n",
       "      <th>Pclass</th>\n",
       "      <th>Age</th>\n",
       "      <th>SibSp</th>\n",
       "      <th>Parch</th>\n",
       "      <th>Fare</th>\n",
       "    </tr>\n",
       "  </thead>\n",
       "  <tbody>\n",
       "    <tr>\n",
       "      <th>count</th>\n",
       "      <td>891.000000</td>\n",
       "      <td>891.000000</td>\n",
       "      <td>891.000000</td>\n",
       "      <td>714.000000</td>\n",
       "      <td>891.000000</td>\n",
       "      <td>891.000000</td>\n",
       "      <td>891.000000</td>\n",
       "    </tr>\n",
       "    <tr>\n",
       "      <th>mean</th>\n",
       "      <td>446.000000</td>\n",
       "      <td>0.383838</td>\n",
       "      <td>2.308642</td>\n",
       "      <td>29.699118</td>\n",
       "      <td>0.523008</td>\n",
       "      <td>0.381594</td>\n",
       "      <td>32.204208</td>\n",
       "    </tr>\n",
       "    <tr>\n",
       "      <th>std</th>\n",
       "      <td>257.353842</td>\n",
       "      <td>0.486592</td>\n",
       "      <td>0.836071</td>\n",
       "      <td>14.526497</td>\n",
       "      <td>1.102743</td>\n",
       "      <td>0.806057</td>\n",
       "      <td>49.693429</td>\n",
       "    </tr>\n",
       "    <tr>\n",
       "      <th>min</th>\n",
       "      <td>1.000000</td>\n",
       "      <td>0.000000</td>\n",
       "      <td>1.000000</td>\n",
       "      <td>0.420000</td>\n",
       "      <td>0.000000</td>\n",
       "      <td>0.000000</td>\n",
       "      <td>0.000000</td>\n",
       "    </tr>\n",
       "    <tr>\n",
       "      <th>25%</th>\n",
       "      <td>223.500000</td>\n",
       "      <td>0.000000</td>\n",
       "      <td>2.000000</td>\n",
       "      <td>20.125000</td>\n",
       "      <td>0.000000</td>\n",
       "      <td>0.000000</td>\n",
       "      <td>7.910400</td>\n",
       "    </tr>\n",
       "    <tr>\n",
       "      <th>50%</th>\n",
       "      <td>446.000000</td>\n",
       "      <td>0.000000</td>\n",
       "      <td>3.000000</td>\n",
       "      <td>28.000000</td>\n",
       "      <td>0.000000</td>\n",
       "      <td>0.000000</td>\n",
       "      <td>14.454200</td>\n",
       "    </tr>\n",
       "    <tr>\n",
       "      <th>75%</th>\n",
       "      <td>668.500000</td>\n",
       "      <td>1.000000</td>\n",
       "      <td>3.000000</td>\n",
       "      <td>38.000000</td>\n",
       "      <td>1.000000</td>\n",
       "      <td>0.000000</td>\n",
       "      <td>31.000000</td>\n",
       "    </tr>\n",
       "    <tr>\n",
       "      <th>max</th>\n",
       "      <td>891.000000</td>\n",
       "      <td>1.000000</td>\n",
       "      <td>3.000000</td>\n",
       "      <td>80.000000</td>\n",
       "      <td>8.000000</td>\n",
       "      <td>6.000000</td>\n",
       "      <td>512.329200</td>\n",
       "    </tr>\n",
       "  </tbody>\n",
       "</table>\n",
       "</div>"
      ],
      "text/plain": [
       "       PassengerId    Survived      Pclass         Age       SibSp  \\\n",
       "count   891.000000  891.000000  891.000000  714.000000  891.000000   \n",
       "mean    446.000000    0.383838    2.308642   29.699118    0.523008   \n",
       "std     257.353842    0.486592    0.836071   14.526497    1.102743   \n",
       "min       1.000000    0.000000    1.000000    0.420000    0.000000   \n",
       "25%     223.500000    0.000000    2.000000   20.125000    0.000000   \n",
       "50%     446.000000    0.000000    3.000000   28.000000    0.000000   \n",
       "75%     668.500000    1.000000    3.000000   38.000000    1.000000   \n",
       "max     891.000000    1.000000    3.000000   80.000000    8.000000   \n",
       "\n",
       "            Parch        Fare  \n",
       "count  891.000000  891.000000  \n",
       "mean     0.381594   32.204208  \n",
       "std      0.806057   49.693429  \n",
       "min      0.000000    0.000000  \n",
       "25%      0.000000    7.910400  \n",
       "50%      0.000000   14.454200  \n",
       "75%      0.000000   31.000000  \n",
       "max      6.000000  512.329200  "
      ]
     },
     "execution_count": 7,
     "metadata": {},
     "output_type": "execute_result"
    }
   ],
   "source": [
    "train_data.describe()"
   ]
  },
  {
   "cell_type": "code",
   "execution_count": 9,
   "metadata": {},
   "outputs": [
    {
     "data": {
      "text/plain": [
       "0    549\n",
       "1    342\n",
       "Name: Survived, dtype: int64"
      ]
     },
     "execution_count": 9,
     "metadata": {},
     "output_type": "execute_result"
    }
   ],
   "source": [
    "train_data[\"Survived\"].value_counts()"
   ]
  },
  {
   "cell_type": "code",
   "execution_count": 10,
   "metadata": {},
   "outputs": [
    {
     "data": {
      "text/plain": [
       "3    491\n",
       "1    216\n",
       "2    184\n",
       "Name: Pclass, dtype: int64"
      ]
     },
     "execution_count": 10,
     "metadata": {},
     "output_type": "execute_result"
    }
   ],
   "source": [
    "train_data[\"Pclass\"].value_counts()"
   ]
  },
  {
   "cell_type": "code",
   "execution_count": 11,
   "metadata": {},
   "outputs": [
    {
     "data": {
      "text/plain": [
       "male      577\n",
       "female    314\n",
       "Name: Sex, dtype: int64"
      ]
     },
     "execution_count": 11,
     "metadata": {},
     "output_type": "execute_result"
    }
   ],
   "source": [
    "train_data[\"Sex\"].value_counts()"
   ]
  },
  {
   "cell_type": "code",
   "execution_count": 12,
   "metadata": {},
   "outputs": [
    {
     "data": {
      "text/plain": [
       "S    644\n",
       "C    168\n",
       "Q     77\n",
       "Name: Embarked, dtype: int64"
      ]
     },
     "execution_count": 12,
     "metadata": {},
     "output_type": "execute_result"
    }
   ],
   "source": [
    "train_data[\"Embarked\"].value_counts()"
   ]
  },
  {
   "cell_type": "code",
   "execution_count": 13,
   "metadata": {},
   "outputs": [],
   "source": [
    "from sklearn.base import BaseEstimator, TransformerMixin\n",
    "\n",
    "class DataFrameSelector(BaseEstimator, TransformerMixin):\n",
    "    def __init__(self, attribute_names):\n",
    "        self.attribute_names = attribute_names\n",
    "    def fit(self, X, y=None):\n",
    "        return self\n",
    "    def transform(self, X):\n",
    "        return X[self.attribute_names]"
   ]
  },
  {
   "cell_type": "code",
   "execution_count": 14,
   "metadata": {},
   "outputs": [],
   "source": [
    "from sklearn.pipeline import Pipeline\n",
    "from sklearn.impute import SimpleImputer\n",
    "\n",
    "num_pipeline = Pipeline([\n",
    "        (\"select_numeric\", DataFrameSelector([\"Age\", \"SibSp\", \"Parch\", \"Fare\"])),\n",
    "        (\"imputer\", SimpleImputer(strategy=\"median\")),\n",
    "    ])"
   ]
  },
  {
   "cell_type": "code",
   "execution_count": 15,
   "metadata": {},
   "outputs": [
    {
     "data": {
      "text/plain": [
       "array([[22.    ,  1.    ,  0.    ,  7.25  ],\n",
       "       [38.    ,  1.    ,  0.    , 71.2833],\n",
       "       [26.    ,  0.    ,  0.    ,  7.925 ],\n",
       "       ...,\n",
       "       [28.    ,  1.    ,  2.    , 23.45  ],\n",
       "       [26.    ,  0.    ,  0.    , 30.    ],\n",
       "       [32.    ,  0.    ,  0.    ,  7.75  ]])"
      ]
     },
     "execution_count": 15,
     "metadata": {},
     "output_type": "execute_result"
    }
   ],
   "source": [
    "num_pipeline.fit_transform(train_data)"
   ]
  },
  {
   "cell_type": "code",
   "execution_count": 16,
   "metadata": {},
   "outputs": [],
   "source": [
    "class MostFrequentImputer(BaseEstimator, TransformerMixin):\n",
    "    def fit(self, X, y=None):\n",
    "        self.most_frequent_ = pd.Series([X[c].value_counts().index[0] for c in X],\n",
    "                                        index=X.columns)\n",
    "        return self\n",
    "    def transform(self, X, y=None):\n",
    "        return X.fillna(self.most_frequent_)"
   ]
  },
  {
   "cell_type": "code",
   "execution_count": 17,
   "metadata": {},
   "outputs": [],
   "source": [
    "from sklearn.preprocessing import OneHotEncoder"
   ]
  },
  {
   "cell_type": "code",
   "execution_count": 18,
   "metadata": {},
   "outputs": [],
   "source": [
    "cat_pipeline = Pipeline([\n",
    "        (\"select_cat\", DataFrameSelector([\"Pclass\", \"Sex\", \"Embarked\"])),\n",
    "        (\"imputer\", MostFrequentImputer()),\n",
    "        (\"cat_encoder\", OneHotEncoder(sparse=False)),\n",
    "    ])"
   ]
  },
  {
   "cell_type": "code",
   "execution_count": 19,
   "metadata": {},
   "outputs": [
    {
     "data": {
      "text/plain": [
       "array([[0., 0., 1., ..., 0., 0., 1.],\n",
       "       [1., 0., 0., ..., 1., 0., 0.],\n",
       "       [0., 0., 1., ..., 0., 0., 1.],\n",
       "       ...,\n",
       "       [0., 0., 1., ..., 0., 0., 1.],\n",
       "       [1., 0., 0., ..., 1., 0., 0.],\n",
       "       [0., 0., 1., ..., 0., 1., 0.]])"
      ]
     },
     "execution_count": 19,
     "metadata": {},
     "output_type": "execute_result"
    }
   ],
   "source": [
    "cat_pipeline.fit_transform(train_data)"
   ]
  },
  {
   "cell_type": "code",
   "execution_count": 23,
   "metadata": {},
   "outputs": [],
   "source": [
    "from sklearn.pipeline import FeatureUnion\n",
    "preprocess_pipeline = FeatureUnion(transformer_list=[\n",
    "        (\"num_pipeline\", num_pipeline),\n",
    "        (\"cat_pipeline\", cat_pipeline),\n",
    "    ])"
   ]
  },
  {
   "cell_type": "code",
   "execution_count": 28,
   "metadata": {},
   "outputs": [
    {
     "data": {
      "text/plain": [
       "array([[22.,  1.,  0., ...,  0.,  0.,  1.],\n",
       "       [38.,  1.,  0., ...,  1.,  0.,  0.],\n",
       "       [26.,  0.,  0., ...,  0.,  0.,  1.],\n",
       "       ...,\n",
       "       [28.,  1.,  2., ...,  0.,  0.,  1.],\n",
       "       [26.,  0.,  0., ...,  1.,  0.,  0.],\n",
       "       [32.,  0.,  0., ...,  0.,  1.,  0.]])"
      ]
     },
     "execution_count": 28,
     "metadata": {},
     "output_type": "execute_result"
    }
   ],
   "source": [
    "X_train = preprocess_pipeline.fit_transform(train_data)\n",
    "X_train"
   ]
  },
  {
   "cell_type": "code",
   "execution_count": 29,
   "metadata": {},
   "outputs": [],
   "source": [
    "y_train = train_data[\"Survived\"]"
   ]
  },
  {
   "cell_type": "code",
   "execution_count": 30,
   "metadata": {},
   "outputs": [
    {
     "data": {
      "text/plain": [
       "SVC(C=1.0, cache_size=200, class_weight=None, coef0=0.0,\n",
       "    decision_function_shape='ovr', degree=3, gamma='auto', kernel='rbf',\n",
       "    max_iter=-1, probability=False, random_state=None, shrinking=True,\n",
       "    tol=0.001, verbose=False)"
      ]
     },
     "execution_count": 30,
     "metadata": {},
     "output_type": "execute_result"
    }
   ],
   "source": [
    "#支持向量机\n",
    "from sklearn.svm import SVC\n",
    "\n",
    "svm_clf = SVC(gamma=\"auto\")\n",
    "svm_clf.fit(X_train, y_train)"
   ]
  },
  {
   "cell_type": "code",
   "execution_count": 31,
   "metadata": {},
   "outputs": [],
   "source": [
    "X_test = preprocess_pipeline.transform(test_data)\n",
    "y_pred = svm_clf.predict(X_test)"
   ]
  },
  {
   "cell_type": "code",
   "execution_count": 32,
   "metadata": {},
   "outputs": [
    {
     "data": {
      "text/plain": [
       "0.7365250822835092"
      ]
     },
     "execution_count": 32,
     "metadata": {},
     "output_type": "execute_result"
    }
   ],
   "source": [
    "from sklearn.model_selection import cross_val_score\n",
    "\n",
    "svm_scores = cross_val_score(svm_clf, X_train, y_train, cv=10)\n",
    "svm_scores.mean()"
   ]
  },
  {
   "cell_type": "code",
   "execution_count": 33,
   "metadata": {},
   "outputs": [
    {
     "data": {
      "text/plain": [
       "0.8149526160481217"
      ]
     },
     "execution_count": 33,
     "metadata": {},
     "output_type": "execute_result"
    }
   ],
   "source": [
    "#随机森林\n",
    "from sklearn.ensemble import RandomForestClassifier\n",
    "\n",
    "forest_clf = RandomForestClassifier(n_estimators=100, random_state=42)\n",
    "forest_scores = cross_val_score(forest_clf, X_train, y_train, cv=10)\n",
    "forest_scores.mean()"
   ]
  },
  {
   "cell_type": "code",
   "execution_count": 36,
   "metadata": {},
   "outputs": [
    {
     "data": {
      "image/png": "[encoded data removed]",
      "text/plain": [
       "<Figure size 576x288 with 1 Axes>"
      ]
     },
     "metadata": {
      "needs_background": "light"
     },
     "output_type": "display_data"
    }
   ],
   "source": [
    "import matplotlib.pyplot as plt\n",
    "plt.figure(figsize=(8, 4))\n",
    "plt.plot([1]*10, svm_scores, \".\")\n",
    "plt.plot([2]*10, forest_scores, \".\")\n",
    "plt.boxplot([svm_scores, forest_scores], labels=(\"SVM\",\"Random Forest\"))\n",
    "plt.ylabel(\"Accuracy\", fontsize=14)\n",
    "plt.show()"
   ]
  },
  {
   "cell_type": "code",
   "execution_count": 37,
   "metadata": {},
   "outputs": [
    {
     "data": {
      "text/html": [
       "<div>\n",
       "<style scoped>\n",
       "    .dataframe tbody tr th:only-of-type {\n",
       "        vertical-align: middle;\n",
       "    }\n",
       "\n",
       "    .dataframe tbody tr th {\n",
       "        vertical-align: top;\n",
       "    }\n",
       "\n",
       "    .dataframe thead th {\n",
       "        text-align: right;\n",
       "    }\n",
       "</style>\n",
       "<table border=\"1\" class=\"dataframe\">\n",
       "  <thead>\n",
       "    <tr style=\"text-align: right;\">\n",
       "      <th></th>\n",
       "      <th>Survived</th>\n",
       "    </tr>\n",
       "    <tr>\n",
       "      <th>AgeBucket</th>\n",
       "      <th></th>\n",
       "    </tr>\n",
       "  </thead>\n",
       "  <tbody>\n",
       "    <tr>\n",
       "      <th>0.0</th>\n",
       "      <td>0.576923</td>\n",
       "    </tr>\n",
       "    <tr>\n",
       "      <th>15.0</th>\n",
       "      <td>0.362745</td>\n",
       "    </tr>\n",
       "    <tr>\n",
       "      <th>30.0</th>\n",
       "      <td>0.423256</td>\n",
       "    </tr>\n",
       "    <tr>\n",
       "      <th>45.0</th>\n",
       "      <td>0.404494</td>\n",
       "    </tr>\n",
       "    <tr>\n",
       "      <th>60.0</th>\n",
       "      <td>0.240000</td>\n",
       "    </tr>\n",
       "    <tr>\n",
       "      <th>75.0</th>\n",
       "      <td>1.000000</td>\n",
       "    </tr>\n",
       "  </tbody>\n",
       "</table>\n",
       "</div>"
      ],
      "text/plain": [
       "           Survived\n",
       "AgeBucket          \n",
       "0.0        0.576923\n",
       "15.0       0.362745\n",
       "30.0       0.423256\n",
       "45.0       0.404494\n",
       "60.0       0.240000\n",
       "75.0       1.000000"
      ]
     },
     "execution_count": 37,
     "metadata": {},
     "output_type": "execute_result"
    }
   ],
   "source": [
    "train_data[\"AgeBucket\"] = train_data[\"Age\"] // 15 * 15\n",
    "train_data[[\"AgeBucket\", \"Survived\"]].groupby(['AgeBucket']).mean()"
   ]
  },
  {
   "cell_type": "code",
   "execution_count": 40,
   "metadata": {},
   "outputs": [
    {
     "data": {
      "text/html": [
       "<div>\n",
       "<style scoped>\n",
       "    .dataframe tbody tr th:only-of-type {\n",
       "        vertical-align: middle;\n",
       "    }\n",
       "\n",
       "    .dataframe tbody tr th {\n",
       "        vertical-align: top;\n",
       "    }\n",
       "\n",
       "    .dataframe thead th {\n",
       "        text-align: right;\n",
       "    }\n",
       "</style>\n",
       "<table border=\"1\" class=\"dataframe\">\n",
       "  <thead>\n",
       "    <tr style=\"text-align: right;\">\n",
       "      <th></th>\n",
       "      <th>Survived</th>\n",
       "    </tr>\n",
       "    <tr>\n",
       "      <th>RelativesOnboard</th>\n",
       "      <th></th>\n",
       "    </tr>\n",
       "  </thead>\n",
       "  <tbody>\n",
       "    <tr>\n",
       "      <th>0</th>\n",
       "      <td>0.303538</td>\n",
       "    </tr>\n",
       "    <tr>\n",
       "      <th>1</th>\n",
       "      <td>0.552795</td>\n",
       "    </tr>\n",
       "    <tr>\n",
       "      <th>2</th>\n",
       "      <td>0.578431</td>\n",
       "    </tr>\n",
       "    <tr>\n",
       "      <th>3</th>\n",
       "      <td>0.724138</td>\n",
       "    </tr>\n",
       "    <tr>\n",
       "      <th>4</th>\n",
       "      <td>0.200000</td>\n",
       "    </tr>\n",
       "    <tr>\n",
       "      <th>5</th>\n",
       "      <td>0.136364</td>\n",
       "    </tr>\n",
       "    <tr>\n",
       "      <th>6</th>\n",
       "      <td>0.333333</td>\n",
       "    </tr>\n",
       "    <tr>\n",
       "      <th>7</th>\n",
       "      <td>0.000000</td>\n",
       "    </tr>\n",
       "    <tr>\n",
       "      <th>10</th>\n",
       "      <td>0.000000</td>\n",
       "    </tr>\n",
       "  </tbody>\n",
       "</table>\n",
       "</div>"
      ],
      "text/plain": [
       "                  Survived\n",
       "RelativesOnboard          \n",
       "0                 0.303538\n",
       "1                 0.552795\n",
       "2                 0.578431\n",
       "3                 0.724138\n",
       "4                 0.200000\n",
       "5                 0.136364\n",
       "6                 0.333333\n",
       "7                 0.000000\n",
       "10                0.000000"
      ]
     },
     "execution_count": 40,
     "metadata": {},
     "output_type": "execute_result"
    }
   ],
   "source": [
    "train_data[\"RelativesOnboard\"] = train_data[\"SibSp\"] + train_data[\"Parch\"]\n",
    "train_data[[\"RelativesOnboard\", \"Survived\"]].groupby(['RelativesOnboard']).mean()"
   ]
  },
  {
   "cell_type": "markdown",
   "metadata": {},
   "source": [
    "# 4. 垃圾邮件分类"
   ]
  },
  {
   "cell_type": "code",
   "execution_count": 1,
   "metadata": {},
   "outputs": [],
   "source": [
    "import os\n",
    "import tarfile\n",
    "import urllib\n",
    "\n",
    "DOWNLOAD_ROOT = \"http://spamassassin.apache.org/old/publiccorpus/\"\n",
    "HAM_URL = DOWNLOAD_ROOT + \"20030228_easy_ham.tar.bz2\"\n",
    "SPAM_URL = DOWNLOAD_ROOT + \"20030228_spam.tar.bz2\"\n",
    "SPAM_PATH = os.path.join(\"datasets\", \"spam\")\n",
    "\n",
    "def fetch_spam_data(spam_url=SPAM_URL, spam_path=SPAM_PATH):\n",
    "    if not os.path.isdir(spam_path):\n",
    "        os.makedirs(spam_path)\n",
    "    for filename, url in ((\"ham.tar.bz2\", HAM_URL), (\"spam.tar.bz2\", SPAM_URL)):\n",
    "        path = os.path.join(spam_path, filename)\n",
    "        if not os.path.isfile(path):\n",
    "            urllib.request.urlretrieve(url, path)\n",
    "        tar_bz2_file = tarfile.open(path)\n",
    "        tar_bz2_file.extractall(path=SPAM_PATH)\n",
    "        tar_bz2_file.close()"
   ]
  },
  {
   "cell_type": "code",
   "execution_count": 2,
   "metadata": {},
   "outputs": [],
   "source": [
    "fetch_spam_data()"
   ]
  },
  {
   "cell_type": "code",
   "execution_count": 8,
   "metadata": {},
   "outputs": [],
   "source": [
    "HAM_DIR = os.path.join(SPAM_PATH, \"easy_ham\")\n",
    "SPAM_DIR = os.path.join(SPAM_PATH, \"spam\")\n",
    "ham_filenames = [name for name in sorted(os.listdir(HAM_DIR)) if len(name) > 20]\n",
    "spam_filenames = [name for name in sorted(os.listdir(SPAM_DIR)) if len(name) > 20]"
   ]
  },
  {
   "cell_type": "code",
   "execution_count": 9,
   "metadata": {},
   "outputs": [
    {
     "data": {
      "text/plain": [
       "2500"
      ]
     },
     "execution_count": 9,
     "metadata": {},
     "output_type": "execute_result"
    }
   ],
   "source": [
    "len(ham_filenames)"
   ]
  },
  {
   "cell_type": "code",
   "execution_count": 10,
   "metadata": {},
   "outputs": [
    {
     "data": {
      "text/plain": [
       "['00001.7848dde101aa985090474a91ec93fcf0',\n",
       " '00002.d94f1b97e48ed3b553b3508d116e6a09',\n",
       " '00003.2ee33bc6eacdb11f38d052c44819ba6c',\n",
       " '00004.eac8de8d759b7e74154f142194282724',\n",
       " '00005.57696a39d7d84318ce497886896bf90d',\n",
       " '00006.5ab5620d3d7c6c0db76234556a16f6c1',\n",
       " '00007.d8521faf753ff9ee989122f6816f87d7',\n",
       " '00008.dfd941deb10f5eed78b1594b131c9266',\n",
       " '00009.027bf6e0b0c4ab34db3ce0ea4bf2edab',\n",
       " '00010.445affef4c70feec58f9198cfbc22997',\n",
       " '00011.61816b9ad167657773a427d890d0468e',\n",
       " '00012.381e4f512915109ba1e0853a7a8407b2',\n",
       " '00013.d3f0b591a65f116ea5d9d4ad919f83aa',\n",
       " '00014.7d38c46424f24fc8012ac15a95a2ac14',\n",
       " '00015.048434ab64c86cf890eda1326a5643f5',\n",
       " '00016.67fb281761ca1051a22ec3f21917e7c0',\n",
       " '00017.1a938ecddd047b93cbd7ed92c241e6d1',\n",
       " '00018.5b2765c42b7648d41c93b9b27140b23a',\n",
       " '00019.bbc97ad616ffd06e93ce0f821ca8c381',\n",
       " '00020.29725cf331fc21e18a1809e7d8b27332',\n",
       " '00021.effe1449462a9d7ad7af0f1c94b1a237',\n",
       " '00022.8203cdf03888f656dc0381701148f73d',\n",
       " '00023.b6d27c684f5fc803cfa1060adb2d0805',\n",
       " '00024.6b5437b14d403176c3f046c871b5b52f',\n",
       " '00025.619ab8051359048795e3cd09e82ad1a0',\n",
       " '00026.da18dbed27ae933172f7a70f860c6ad0',\n",
       " '00027.d1d0f97e096fe08fc80a4939355759e7',\n",
       " '00028.ace98eff213f4e6314b5571aece625e1',\n",
       " '00029.de865ad8d5ad0df985ae2f72388befba',\n",
       " '00030.0c9cdd9d4025bd55dac02719ec8d29dc',\n",
       " '00031.a78bb452b3a7376202b5e62a81530449',\n",
       " '00032.7b07a09236ce9feb12d80197144d3206',\n",
       " '00033.9babb58d9298daa2963d4f514193d7d6',\n",
       " '00034.8e582263070076dfe6000411d9b13ce6',\n",
       " '00035.7ce3307b56dd90453027a6630179282e',\n",
       " '00036.256602e2cb5a5b373bdd1fb631d9f452',\n",
       " '00037.21cc985cc36d931916863aed24de8c27',\n",
       " '00038.8d93819b95ff90bf2e2b141c2909bfc9',\n",
       " '00039.889d785885f092c269741b11f2124dce',\n",
       " '00040.949a3d300eadb91d8745f1c1dab51133',\n",
       " '00041.f1b3402799046db3c1f143a911dc085d',\n",
       " '00042.3e934ba4075f82283d755174d2642b76',\n",
       " '00043.548c447db5d9ba3f5546de96baa9b0e6',\n",
       " '00044.9eece8e53a8982c26558b9eb38230bb8',\n",
       " '00045.7282c2c4e009744f2f3450d370009235',\n",
       " '00046.e0fd04360622dbe9250380447f6465cc',\n",
       " '00047.0d7a240951e460b5884a8886ee64a8c3',\n",
       " '00048.8a64080dbd9d868358a22b655fb1b1cd',\n",
       " '00049.09e42d433e0661f264a25c7d4ed6e3ea',\n",
       " '00050.45de99e8c120fddafe7c89fb3de1c14f',\n",
       " '00051.fd20658f0e586d1f27f9396401f4981c',\n",
       " '00052.edb775ef7470f35cd593d07e5a0466a8',\n",
       " '00053.d88d8b162ca1b7108221fb338cd7d0a5',\n",
       " '00054.62863160db27f89df8c73275b6dae134',\n",
       " '00055.58adfd0c60ebc04370658a76b9352aa1',\n",
       " '00056.c56d61cadd81b4ade0030c8dee384704',\n",
       " '00057.0a2e17bde9485e999ac2259df38528e2',\n",
       " '00058.64bb1902c4e561fb3e521a6dbf8625be',\n",
       " '00059.dc5b9ea22c6848c97871f0d9576cc931',\n",
       " '00060.ec71d52a6f585ace52f4a2a2be2adfce',\n",
       " '00061.bec763248306fb3228141491856ed216',\n",
       " '00062.3019eac14dfe3c503c03e25e70e63091',\n",
       " '00063.2334fb4e465fc61e8406c75918ff72ed',\n",
       " '00064.65b95365450ebe5eef61e7f1c60edc5e',\n",
       " '00065.6203de135559b319326445aafd68dbca',\n",
       " '00066.6afbb1258bcf3e4d59d53c847a84e469',\n",
       " '00067.ec108870b01dc3ccb8fabc5def869ca5',\n",
       " '00068.d10af636a6082d5172ceb34a944486e6',\n",
       " '00069.066b1a012235d062a5da73eead4a6b35',\n",
       " '00070.ab34b6c044a55bef3d6c1f64b7521773',\n",
       " '00071.4b7e06d97286ec97820a0f8725878126',\n",
       " '00072.d519a73b92f487519c2bc5ba45f5eb2c',\n",
       " '00073.8dcd40346d48c69a9e075e935395e96d',\n",
       " '00074.51aab41b27a9ba7736803318a2e4c8de',\n",
       " '00075.28a918cd03a0ef5aa2f1e0551a798108',\n",
       " '00076.066bf704d9c4a3cf45da5ac7a6b684f8',\n",
       " '00077.c85b7442247d61308f15d86aa125ec28',\n",
       " '00078.6944f51ce9c0586d8f9137d2d2207df0',\n",
       " '00079.cc3fa7d977a44a09d450dde5db161c37',\n",
       " '00080.5a7386cb47846dfef68429241ad80354',\n",
       " '00081.123b29a781b2e8c83763e5d440e672a3',\n",
       " '00082.0341a767bbaca01fd89b6236ef681257',\n",
       " '00083.c1891c507954e5b75b72b16712e799bf',\n",
       " '00084.a9f5b3a9b7feb7070f25ae76320c8ec6',\n",
       " '00085.f63a9484ac582233db057dbb45dc0eaf',\n",
       " '00086.9c945bb90f76a8b76331599106c28429',\n",
       " '00087.f09438ca6392721e63696f4f753effbb',\n",
       " '00088.1673f91313df07da1a18b2fc458dd4c4',\n",
       " '00089.7e7baae6ef4a8fb945d7b3fe551329fe',\n",
       " '00090.52630c4c07cd069c7bc7658c1a7a7253',\n",
       " '00091.bcaf9648660ba372bc4d542aa06456ad',\n",
       " '00092.8ca54ce0c31e6149b5ef05c0108743be',\n",
       " '00093.ca4edc32d2ff8e1dbb5f9c0b15ec435b',\n",
       " '00094.7f704c47988221c18cb6a620409442b8',\n",
       " '00095.17594a58d6736a8f6a1990b0b92090cd',\n",
       " '00096.a791864be5f1205bf2cea0adf241b25a',\n",
       " '00097.013347cc91e7d0915074dccb0428883f',\n",
       " '00098.f1f1a3bd3ec32d8e967fba2a7a03e1e5',\n",
       " '00099.d41a21dc96bb3c3342292f7c9fa4db1e',\n",
       " '00100.81611d62ec1f172be947fda4af7caa2c',\n",
       " '00101.5a24bf3ba3962442179b1a0325a1d1cb',\n",
       " '00102.fb09d2f978a271fba5a3ffc172003ed9',\n",
       " '00103.2eef38789b4ecce796e7e8dbe718e3d2',\n",
       " '00104.04d165183bb8feab0956362c70591b3d',\n",
       " '00105.00951a21b8464f4eb4e106d6b14c68b6',\n",
       " '00106.f20a99365b7016f8e9dcd8620b472e74',\n",
       " '00107.e6cd2d9f49514710dc85db0fef5b8726',\n",
       " '00108.ce25a55c6b4cc9bcd32ed090ee20785a',\n",
       " '00109.eda1664dd3b3c31b67e5cd04553b6546',\n",
       " '00110.f3c4ebe14b439420b53212332326181f',\n",
       " '00111.ae6aba48f8aa83849be067076eea8ce5',\n",
       " '00112.be81f2f6f7940a9403c9809b4a9e243a',\n",
       " '00113.eebc11982ccc4730fb8759f94400ce19',\n",
       " '00114.e337195587d1dbb42e8a2b693e9fc938',\n",
       " '00115.c97af50ef7ccd816f95bbdc6f4d226b2',\n",
       " '00116.29e39a0064e2714681726ac28ff3fdef',\n",
       " '00117.b3ceb6525a1dc935463f3e3080110039',\n",
       " '00118.b31615605a37b4878bd1de4f829c89cb',\n",
       " '00119.7bd666ac52f079fb3b5ff0be83b55286',\n",
       " '00120.58579af867ff9a702cff23e7b8818a59',\n",
       " '00121.bf18a63d6e7d40409f8b722036eadd82',\n",
       " '00122.98bcaad36eb81e75911371f841f28dfc',\n",
       " '00123.a5ee0040ec9a30b3f32f61e547fa5f8f',\n",
       " '00124.db848e36f1b4c2705cbc16ef33a302d4',\n",
       " '00125.120d27c936362896c00a3db9d3a4571e',\n",
       " '00126.e98e1ba87a38e0cceeb55f3b86dbd4dd',\n",
       " '00127.3500d109361b544b0937523adb763588',\n",
       " '00128.721b6b20d5834d490662e2ae8c5c0684',\n",
       " '00129.1080cea3a532759b015dc071d033749d',\n",
       " '00130.c8128e89eff5b0e61aa864ebfd96afba',\n",
       " '00131.d955acc659fb151479460f9dd2f87efe',\n",
       " '00132.0ead3e293c6c41cbffb69670e8b85ae7',\n",
       " '00133.17dccf2499a4245b83890e0784c43499',\n",
       " '00134.9f41f4111a33dc1efca04de72e1a105a',\n",
       " '00135.00e388e3b23df6278a8845047ca25160',\n",
       " '00136.faa39d8e816c70f23b4bb8758d8a74f0',\n",
       " '00137.09969121c8540730f1020b5a700b4c42',\n",
       " '00138.c15973a4d40bed4333079296be2522ca',\n",
       " '00139.b2a205ac25d7d907cdfb3f865dbae1ae',\n",
       " '00140.eba666846fa0a138a90aeef51a627022',\n",
       " '00141.c30e993ea9a98743b0a98733bdfba8c2',\n",
       " '00142.eddc7114a8566cbf83fa8210bf0d3603',\n",
       " '00143.13c0751d4b9f10098bb3ac85a435d884',\n",
       " '00144.4eeba2f228a8658e0d2e3a64764f4f31',\n",
       " '00145.0ec326fee0570953d684e40edd3fa7b8',\n",
       " '00146.e9b64856c0cd982a64f47c9ab9084287',\n",
       " '00147.1782d51354c31ea53db25ea927d5c51d',\n",
       " '00148.21c30154aa358d903c10c5d8a3ef6ffd',\n",
       " '00149.c07359393107925a86798dd72d6a56b3',\n",
       " '00150.f97c73fa56460a6afc6d9418ad76b5b5',\n",
       " '00151.34bbdbf089edc6f58080753a166a3cfc',\n",
       " '00152.8ed8aaed94054e507af5b9c760dd7be6',\n",
       " '00153.6a5ffe584834ea334041ab958cadcadb',\n",
       " '00154.b6c448ccff434e2dbe2c7c200a36aa31',\n",
       " '00155.1c37ce73590cc67186717a491ed0db5f',\n",
       " '00156.0b541afe96820e3bb8f900b565608269',\n",
       " '00157.52b0a260de7c64f539b0e5d16198b5bf',\n",
       " '00158.9c8bf53ed738031b4bfab819c4b3ef13',\n",
       " '00159.b16f070a576c2eb1533aa9e2cf8e6b77',\n",
       " '00160.cec5f611ae665ff0add6c4928d47f2be',\n",
       " '00161.ae33257753c9bdaaadc9221347868496',\n",
       " '00162.6d0397cc491b214db1e84e19bb49177a',\n",
       " '00163.244a217b150d2129cbdc52b96d992382',\n",
       " '00164.8536500ed9cadc8397a63b697d043c0b',\n",
       " '00165.45db168e8e1a78a66972b9f50c47b6dc',\n",
       " '00166.1b7ca83ece36a955e80c7f32efe5fd3d',\n",
       " '00167.af33a21e8b279ee28d5e70a6ef1dc86a',\n",
       " '00168.7422ce438a3d745e2cafb7430e5ddb0f',\n",
       " '00169.86721d6b50e889ed39c7d302adb2a5ab',\n",
       " '00170.33a973aa9bb7d122bdfbd96d44332996',\n",
       " '00171.08c5c55e9c2b4062344655e9ee32b979',\n",
       " '00172.7fe063c5f90c46934dc79a83d9fdabfe',\n",
       " '00173.e10eb62e2c7808674c43d6a5e9e08a1c',\n",
       " '00174.516721408a0d043ffc5258ecc49e907a',\n",
       " '00175.e672ac062c93c15915d4d264c4282b47',\n",
       " '00176.79f82496c612ea28f45f13ca5c47f8c2',\n",
       " '00177.56ed33af0cb1d0f700cc2d26a866870b',\n",
       " '00178.cdecf0f56ddc0bf61e922a131dc806c2',\n",
       " '00179.2174c80cb3eff623dfc991e51a53eb99',\n",
       " '00180.13a95a2542a0fd01ff24303561cca949',\n",
       " '00181.a9ce64eb710cb3f00a7d7db7911291ab',\n",
       " '00182.1b9ba0f95506a6f2bf256f40fad0687d',\n",
       " '00183.38d9e73b56e7a59ca1472e08076a9b71',\n",
       " '00184.ead42d7ed872c504c79928a5f0a2b2eb',\n",
       " '00185.8ca19012fa3f2a906f23c3b41f11ffed',\n",
       " '00186.a66b4fc4ab114c9cb37e1a31d1ea1aeb',\n",
       " '00187.efd97ab2034b3384606e21db00014ecb',\n",
       " '00188.3d145a97a4ccf05a36a1f2795b4c331d',\n",
       " '00189.58d4489891c5ab450678438eb8cc4a3e',\n",
       " '00190.dbaebac8c91d57cf7c9b9a431606ce54',\n",
       " '00191.9ff80a41f015b7a6c409732e41c0df07',\n",
       " '00192.e5a6bb15ae1e965f3b823c75e435651a',\n",
       " '00193.c04ef77bc3dbaa5762760a6ea138df0e',\n",
       " '00194.767c323b4ae7a4909397e42cbd0c56a4',\n",
       " '00195.0a543c2780491168160570bb6708af86',\n",
       " '00196.dd21040c7757d477c967ae71b537810e',\n",
       " '00197.5a921df53d215a60d557c68754559e93',\n",
       " '00198.aad7df5b8be674a0ce09c8040ef53f1e',\n",
       " '00199.9be6cec49c53210152780926cdeb59ff',\n",
       " '00200.bacd4b2168049778b480367ca670254f',\n",
       " '00201.00020fc9911604f6cae7ae0f598ad29d',\n",
       " '00202.d5b52386f66bd36cd1508319c82cf671',\n",
       " '00203.3956f8506171ffd90a0060cafad4fdea',\n",
       " '00204.a008813ddeb2d5febd1fc676c07e9760',\n",
       " '00205.312e72065386636132fa6c4a1fde871e',\n",
       " '00206.0c8362d7e86ddcaf39829800ac40e2ca',\n",
       " '00207.0b71ac81a360455c1514f5872564b1e1',\n",
       " '00208.369921416af87a0b70f133632131b184',\n",
       " '00209.5276f967533f2ce0209c1eff631a86ff',\n",
       " '00210.050ffd105bd4e006771ee63cabc59978',\n",
       " '00211.d976c6049e8448e7c407c124b580e0ba',\n",
       " '00212.a9947ad74a529a35d11538e1df60cd73',\n",
       " '00213.8c42a1c257aa30ff3b3ba668cca59408',\n",
       " '00214.1367039e50dc6b7adb0f2aa8aba83216',\n",
       " '00215.f571ecd203e8d39296419bffc47e4a6a',\n",
       " '00216.89c1ede0b81fb09f7334f47a5183410a',\n",
       " '00217.43b4ef3d9c56cf42be9c37b546a19e78',\n",
       " '00218.917ed95f5c90c1d9d15d2528b0bd1e79',\n",
       " '00219.eaf6c0ff67706c784f67f5c1225028a1',\n",
       " '00220.cf7d03e161582887dc589229e2896e26',\n",
       " '00221.c4dfeecf0cacc9469540337f5baf69db',\n",
       " '00222.77293b7002c5749b9d31a99b2f4e0366',\n",
       " '00223.349b9b0748ee72bad60729ffaae2cc00',\n",
       " '00224.0654fe0af51e1dcefa0eb66eb932f55f',\n",
       " '00225.b1ca16fa2be1be1d68f5e3bf2603f3cb',\n",
       " '00226.e0e2704cde3bbd561a98042f4a3baf5f',\n",
       " '00227.1171cc6d8c586141b4110a2abdccba00',\n",
       " '00228.cf58326ab05a757c7e759acc8d6b360d',\n",
       " '00229.4c37dd3d98b8d6fb2694b6f83061ca5a',\n",
       " '00230.214f8d9a756aee75e292056c1f65a005',\n",
       " '00231.77a5d20da55f185c1bb7a3949332d364',\n",
       " '00232.2d55046b9cf0b192ad6332545ef2a334',\n",
       " '00233.a268478ca6f03604012ffff8dd3de396',\n",
       " '00234.6b386bd178f4ae52c67b6c6d15ece489',\n",
       " '00235.45b5f386cf62b5865d9d4440d8b78aab',\n",
       " '00236.2772a068fff32e2f8d7f8a94bd9280cd',\n",
       " '00237.9cee6fd8bdd653d21d92158e702adf50',\n",
       " '00238.e3e16467d10137fa9a99b1701d76ae94',\n",
       " '00239.2f1370f9cba5ab21297eadb2af40b051',\n",
       " '00240.2ff7f745285653a238214d975859406b',\n",
       " '00241.c28ade5771085a8fddd054a219566b7c',\n",
       " '00242.e030c8b1f053037aeffb062f3a34b523',\n",
       " '00243.c6e70273fe1cf9e56e26bb6bbeef415d',\n",
       " '00244.5cac9708afd7f9f00e9bf64eeb127f0a',\n",
       " '00245.f129d5e7df2eebd03948bb4f33fa7107',\n",
       " '00246.4dc5830a5a3e1fda805613b61822bac8',\n",
       " '00247.4f7c67c9792706fa90fe218d4b092b7a',\n",
       " '00248.b243bca51ee69d6e428ca2f45f0fe41b',\n",
       " '00249.5f45607c1bffe89f60ba1ec9f878039a',\n",
       " '00250.32279787338af8a5de4cfbc0b837718e',\n",
       " '00251.6b4b7e79e1706156839a00817d774e37',\n",
       " '00252.7e355e0c5fd1de609684544262435579',\n",
       " '00253.83b95b05e275286eddcf557ea581e754',\n",
       " '00254.e3e30f2b37ef8db36aa652bb3e563b61',\n",
       " '00255.aeff2fdf2ba6b8b49686df3575859a48',\n",
       " '00256.edd9bfb44729edf3c4f177814fd8c9e1',\n",
       " '00257.5c8ef87f8b11d2515df71a7fe46a70b6',\n",
       " '00258.4af5bde7fabd4e797b85cf95bcbbb45a',\n",
       " '00259.7b838a90b63541213eff9099e1a1aa3c',\n",
       " '00260.c75ce8b8d8bfc55723426979d260bf61',\n",
       " '00261.12b64e557e52daf5fc5a52e47df2f4e3',\n",
       " '00262.678598cbe253f19239da03b65dac7392',\n",
       " '00263.13fc73e09ae15e0023bdb13d0a010f2d',\n",
       " '00264.02b614f34aa0d5970959123b9386b285',\n",
       " '00265.d2acd28cf29d90c9b7a1297b219187b3',\n",
       " '00266.3cf1dcf8df07100b1530493e11f80a25',\n",
       " '00267.ef433fb350170f28a1567cbc24900e53',\n",
       " '00268.9b64189b6da55d1e0a30026ca73eb0da',\n",
       " '00269.e85c3ef79a5cf21ee1ef7b8df17760e1',\n",
       " '00270.5dcd9ce3be2992222b9038d7bf75a23a',\n",
       " '00271.85110ef4815c81ccea879857b0b062ed',\n",
       " '00272.8353b9140b08dab4be0e8ce53f09172b',\n",
       " '00273.0c7d73771d79e84e2aab8c909c5bb210',\n",
       " '00274.ecb5ce751d8768ef609c171b84ca07a9',\n",
       " '00275.4675c4cce2bf27adaafeef693d562f8b',\n",
       " '00276.a6e447390e371ddba7cee092bb0ec98f',\n",
       " '00277.64128ce1653bc4e1bde9ffe2f83db557',\n",
       " '00278.b62c5fc23a2f87760696cb9fa51f073c',\n",
       " '00279.1d58a13e343c1e53aca2ed2121a3f815',\n",
       " '00280.026da2bd191f11081b8d8428134b0c66',\n",
       " '00281.db28f3aab77ff478279d8de20d572b42',\n",
       " '00282.0e230e05877f40a522bfb93aa3e314f3',\n",
       " '00283.e8e42ee52f919afd2a453983f1256b1d',\n",
       " '00284.4cdf4c9e9404c79c85ab5ac12ce39e85',\n",
       " '00285.8a06c91fcdf4a1ae8ca928f3ef3feecb',\n",
       " '00286.efd0b8f0c9c779b7a0ad93505c9b0bae',\n",
       " '00287.b0495a4dbdff36654c3b3ee2f92bdbf3',\n",
       " '00288.8c8bc71976c3b67d900ebd8eeab8a0f5',\n",
       " '00289.61a681a72c71512f115ad65033acc7c9',\n",
       " '00290.eb053a191b7509a9399aa16717630414',\n",
       " '00291.7aa227e74e89bdd529a3875459d0d5a2',\n",
       " '00292.dbf78a2aaa230d288eb80ab843804252',\n",
       " '00293.f4e9fd5549f9063ad5559c094edf08f2',\n",
       " '00294.df27a988d82cc82296e33e6d727ac47e',\n",
       " '00295.b028688ce4ea3693f4ed591b8ca3f72e',\n",
       " '00296.0087354f4bb7c4e756124632a4a7e80a',\n",
       " '00297.3350c2dbbb0272c27b2c7773d7012356',\n",
       " '00298.90b548a0816ca0783f012bb9c69166cc',\n",
       " '00299.f786faed64bef7134e52fafa17ea861f',\n",
       " '00300.834f370a21ca4f1774d5724b5443411c',\n",
       " '00301.68fe7955b96d085360ca916289e8e716',\n",
       " '00302.544366fa4cd0f5d210dd8443a1c2c95a',\n",
       " '00303.22239f1393297a691eb5df3dfe7a5001',\n",
       " '00304.ed5fbfc3e6f2be662f29f43f172a1fb3',\n",
       " '00305.f80c21904d6d4f6facd036450a588b0d',\n",
       " '00306.729a42414b91e9b2bddf273c514c50d7',\n",
       " '00307.7ed50c6d80c6e37c8cc1b132f4a19e4d',\n",
       " '00308.c80d7cb2a6981efac408b429d42d2b89',\n",
       " '00309.d9efb4713f45f4e1237d3f9b757d0916',\n",
       " '00310.3f652995aadb0bf696dd10c89ce30afc',\n",
       " '00311.9797029f3ee441b00f3b7521e573cb96',\n",
       " '00312.75c839d7d4f6da9e860a11b617904fb5',\n",
       " '00313.fab744bfd5a128fca39b69df9811c086',\n",
       " '00314.8f7993db02bde4d724e1eff9d2d35db1',\n",
       " '00315.0ee82a2e087ffcf6efbd30b36499ead6',\n",
       " '00316.311d11f764c6e452b2f0208b53b94ea2',\n",
       " '00317.22fe43af6f4c707c4f1bdc56af959a8e',\n",
       " '00318.7ce7e3cbbf4fa9c30a67b7ecdda2342e',\n",
       " '00319.a99dff9c010e00ec182ed5701556d330',\n",
       " '00320.20dcbb5b047b8e2f212ee78267ee27ad',\n",
       " '00321.22ec127de780c31da00ae5e1c1aa32e4',\n",
       " '00322.7d39d31fb7aad32c15dff84c14019b8c',\n",
       " '00323.9e36bf05304c99f2133a4c03c49533a9',\n",
       " '00324.6f320a8c6b5f8e4bc47d475b3d4e86ef',\n",
       " '00325.58d1a52f435030dc38568bc12a3d76a2',\n",
       " '00326.5ec68244bb085cb140deb79563abd7b3',\n",
       " '00327.7f21bc8575786a0e00341a6407b9f286',\n",
       " '00328.73c1a9f83d3b1247522c26eb6d74c215',\n",
       " '00329.af4af411fb1268d1461b29fa2d2145a3',\n",
       " '00330.c5f7346dec1e6fe6ed324d8e78a2b46e',\n",
       " '00331.a61788d316e7393c8bbf8ee19b24c713',\n",
       " '00332.580b62752adefb845db173e375271cb5',\n",
       " '00333.4bb36a535cb3d738f30f985f1e10a786',\n",
       " '00334.a1038f98abb76b403d068afb57bfb290',\n",
       " '00335.f71c6e9b23487811a44e6aeaa50e73a5',\n",
       " '00336.92409253178027f58e2c072a7e82791e',\n",
       " '00337.813498483bc80a24c002e6e7e8e0f2cb',\n",
       " '00338.a595ffbb6cbcf3a5058293051ebaabf4',\n",
       " '00339.16bd110d8aa11e7d9398287c27b1b389',\n",
       " '00340.520783fd73bb73df88d6effd04e1f55d',\n",
       " '00341.99b463b92346291f5848137f4a253966',\n",
       " '00342.0dab365fab3be83284b08ac5783335da',\n",
       " '00343.37d895b3a54847548875136ad6b0192d',\n",
       " '00344.17882edad13c2c761e6d8d99eef5a346',\n",
       " '00345.613b3c2aeac033eebb379c91b8ce9fba',\n",
       " '00346.1ae83883f566cdf6ff18958a33a215b3',\n",
       " '00347.0958e79c14164f0f902d863f41156c0b',\n",
       " '00348.1948d1e6b724e8abf4b8f0fc024ac627',\n",
       " '00349.dd7982f40576ff4897c18efc813e38bf',\n",
       " '00350.c2658f17a328efdf045b38ab38db472f',\n",
       " '00351.fd1b8a6cd42e81125fb38c2660cd9317',\n",
       " '00352.19a8ba03f566612e0b9e124609d9dbd0',\n",
       " '00353.464ef65be6651440e15675faeb15a7ca',\n",
       " '00354.dca4b8984863a76ffd01a33888498288',\n",
       " '00355.e10c2eba9316a09e612e6675ce339d5e',\n",
       " '00356.ea7eb32330fa6bf65270023c0d99e2c5',\n",
       " '00357.b523d4209d633d6fdf86b93bc19e3aa2',\n",
       " '00358.2cf55d91739f3530d1f4bc8bc9bc0b12',\n",
       " '00359.4ab70de20a198b736ed01940c9745384',\n",
       " '00360.3c1e6c84cb93d024c1f1aa85cd56ac9c',\n",
       " '00361.e91ac048b0ede961d3f51009eee1c620',\n",
       " '00362.be7a346be8746732d4dc27bc549d7441',\n",
       " '00363.e6935b8f87c5984a5c6f6656afa1afb4',\n",
       " '00364.11dba84b95e0471927d1ebc8ff0017ef',\n",
       " '00365.da6795d02b44e4d5e168d62718f3e7c9',\n",
       " '00366.f0bfcc3c84da11ae1154c6c593362f69',\n",
       " '00367.9688cdee9dfe720c297672c8f60d998f',\n",
       " '00368.2c1ab4bc7f408e0fcb22dca9b2d5a113',\n",
       " '00369.845eeb9573484bd88a6a6224c7068d81',\n",
       " '00370.549e569ab1b84fb13a4ea7d61f98f86d',\n",
       " '00371.3bc80f63aa7c64a56eb77fc82ce22e7f',\n",
       " '00372.4ebcb6306af1946c3ff1b2bc933e1203',\n",
       " '00373.ebe8670ac56b04125c25100a36ab0510',\n",
       " '00374.8942e17f10389fe620e1e96cba52c9aa',\n",
       " '00375.1130c29a255fa277c5acbee4d08edacd',\n",
       " '00376.f4ed5f002f9b6b320a67f1da9cacbe72',\n",
       " '00377.e30c013b7392bf14f132258aa82b1b25',\n",
       " '00378.143069173c8ee0047916f124032367d1',\n",
       " '00379.f04dedf09dce65a80fbe1fd831abefd0',\n",
       " '00380.a262abe251ca7cc3026e4e146d9cf817',\n",
       " '00381.7d436777379ad18167e4614190b206cf',\n",
       " '00382.98464d934c8402ef42e6dbdb07b18a65',\n",
       " '00383.1aa9a8211d1de540d6e3852e230e5a9d',\n",
       " '00384.2054d62f06fd10e4018a43e156b32acf',\n",
       " '00385.51089b24dee5a89d38ee1b505b470c68',\n",
       " '00386.6074f269f0bd1aec1546f9e654e8fcfe',\n",
       " '00387.8562ea27520ea0fa6030679792f2fb72',\n",
       " '00388.53eae0055e66fcb7194f9cca080fdefe',\n",
       " '00389.6222f886a2658f890c49f1853beea193',\n",
       " '00390.ce19abc8034db9e6b435d494a91db87a',\n",
       " '00391.e2c76e9dc5ef65b90275138f73eb475b',\n",
       " '00392.ffefdd973d6b1bf1243937030e3bd07f',\n",
       " '00393.13d4d84cb98ea19954f895c629520bf8',\n",
       " '00394.cca39f925676ecca947eaed2b600fe70',\n",
       " '00395.f9df5b3574ef5ba6143c08a1fa301886',\n",
       " '00396.6fc0d31374c02ec5614f503a09a37211',\n",
       " '00397.1a99f98a5b996f99f3661e9609782932',\n",
       " '00398.1939605e3c713ff2ef852b1fbf10b0bb',\n",
       " '00399.cd1239166aa4d43f7c3127c3b48b3f18',\n",
       " '00400.cc74b7994a7282f32ee2a3b7e3634d31',\n",
       " '00401.309e29417819ce39d8599047d50933cc',\n",
       " '00402.9fd8762dd436ec868d4c22a17d8ccc3d',\n",
       " '00403.46d0face754b6bb7dce8b3ea560f75fb',\n",
       " '00404.b4bbecbee92f735a845f589582e7695d',\n",
       " '00405.3163fff27ff95b91afd656f0025c6a83',\n",
       " '00406.05e2214fea602970426862295f9b4a2e',\n",
       " '00407.7a447442b07fa08de0b69e907ce3ca53',\n",
       " '00408.22230b84aee00e439ae1938e025d5005',\n",
       " '00409.e59f63e813b6766a9a4ddf0790634ca3',\n",
       " '00410.b3134c2bf520f95f9b90d4aef4fdd683',\n",
       " '00411.fae7b15cc1f966d92c2cedc872893268',\n",
       " '00412.700e6d74e5f886eb75017714a6aeb735',\n",
       " '00413.28e8cb47d7429bf78c711079da50fcd4',\n",
       " '00414.b2312673ca5358901c801eb44c00e310',\n",
       " '00415.6faccf48ec514344fc850e8b3c154528',\n",
       " '00416.bff1badad869f205fdb54f311f060734',\n",
       " '00417.7b196fd20fd308e0afa9032ccb02474b',\n",
       " '00418.6321175c76411371c109eafc99563d2c',\n",
       " '00419.141092086514a246ff2ff8d4bc523400',\n",
       " '00420.e208f7d65551c01efaa3b4ee4bc4df3c',\n",
       " '00421.ca2fe949a956845a9ba81c649a7db6c0',\n",
       " '00422.7d5baf3fe64de8647b41aeb820ada876',\n",
       " '00423.bee32224fd8c9c8c06e2099d9c2adccd',\n",
       " '00424.9acca894169b3162d76ebddb69097f3c',\n",
       " '00425.1434e0ab4e5235b64825b4c2a0999d76',\n",
       " '00426.36b36cbe96efe9001c4d80363ea7ed4e',\n",
       " '00427.fa1252c91a3b89bb64bc2bc217725e26',\n",
       " '00428.a7bbcb15affd49a93d516d5ed5700d66',\n",
       " '00429.0061e48e64f9ce93ffae69bba9151357',\n",
       " '00430.d2179c2841013fea688db8bbcf60b3b0',\n",
       " '00431.12b2043fed99f1202eb0677969d1a61e',\n",
       " '00432.40ceb2dcb26e292ea6fd8669dfc9b4c5',\n",
       " '00433.8ac2ba68fca4bccc0856abe31002a8e9',\n",
       " '00434.8507c67a652e01636df9b92a0a397193',\n",
       " '00435.69467ebbdbdd2d891624bf8fccda579f',\n",
       " '00436.4ef1bd17d9202e4229485da7a47afd6c',\n",
       " '00437.defdb75139dbe5cdd027cbab9f704a27',\n",
       " '00438.41295e1df4b651b7611316331b8468e4',\n",
       " '00439.6f4246a5e3336b6ecb5624e209e0b59f',\n",
       " '00440.647d9eb44fd0cb069ea92be204966a8e',\n",
       " '00441.77768298934252b2fa200e7d9482993b',\n",
       " '00442.6a4db031f5561b90c04bb3d3aee31e85',\n",
       " '00443.cac50573829d4df1111b6ead28212e73',\n",
       " '00444.33afc8c1f9cea3100ca8502e8a785259',\n",
       " '00445.94d3ccfafc541255ff46625091d333e4',\n",
       " '00446.a54877313142d56c24d499d761c48fb1',\n",
       " '00447.bd5eb01e94f6d127465bf325513b2516',\n",
       " '00448.a6ac96e93ef03ec1a638c577c6940f5e',\n",
       " '00449.7d33f465cb813806296901ee541841d6',\n",
       " '00450.93d3d59fcdd0f8fda9ef4678535182e8',\n",
       " '00451.5af88ff99e71a8984ac293c250b37d34',\n",
       " '00452.ed43fc952c31c82aa29646edfbecb03f',\n",
       " '00453.456abc0bc83034492888f63725796d5b',\n",
       " '00454.1bb460b3ade9801644e4eb60e18d1f8d',\n",
       " '00455.c48d026b0aae9a1a14e9ab1193a2a5f3',\n",
       " '00456.b700dd37219f192d25cfc87f5c97a86d',\n",
       " '00457.f8db516c753eff2c82cfb89b33bd2620',\n",
       " '00458.62211764fde0dd7128ea4146268b40dd',\n",
       " '00459.e71f7a769d6b09c6d75bfbe8711dbbbe',\n",
       " '00460.8996dc28ab56dd7b6f35b956deceaf22',\n",
       " '00461.1a27d007492d1c665d07db820b7dc3b8',\n",
       " '00462.868771c8074e480f540a1d2e6a5ac7cb',\n",
       " '00463.45bff4629688e8031231a8b64a4eef06',\n",
       " '00464.8240aba24840864cb7439fc03f94ef6e',\n",
       " '00465.ca5d79d0e5dadee322c117789196ebb4',\n",
       " '00466.ecb11c98ec4511b5422b20476d935bd1',\n",
       " '00467.5b733c506b7165424a0d4a298e67970f',\n",
       " '00468.77534696791a755fb0fb8be8c2704ed8',\n",
       " '00469.ee3b2f31459cc2ec43ae7cae00d40cf6',\n",
       " '00470.32f31d3d1598f840a6471fa25332336d',\n",
       " '00471.fc87286572c99b7a554dc8c86f34506c',\n",
       " '00472.713268dfca421e165c1ac59bab045e00',\n",
       " '00473.7086ec944a1245a002b04547a433c887',\n",
       " '00474.30772a1ac9e824976fc6676844d68b76',\n",
       " '00475.71f75afb1960d619af86e1c64dcb11fc',\n",
       " '00476.af3a29817853a5c56bae5257c2d4b742',\n",
       " '00477.24ef7a042f97482f884387c75249380c',\n",
       " '00478.6c50ff18ef92c52a3342f1c9f090740b',\n",
       " '00479.a2cd6780001042d8203b05a6ab0f34ac',\n",
       " '00480.a5931465ca6f5b22eff24943b5c8b17d',\n",
       " '00481.5c95b526e965fa325044123c4ce29c1f',\n",
       " '00482.980c7ceb9333bc5027cd8d1d360a8c6f',\n",
       " '00483.50c5dda7dd4710798c15a85ade6e9f93',\n",
       " '00484.a34bda1ad8a88b5b21b13b8ad05d0dd3',\n",
       " '00485.a5d28b804adbceff7fd75ed9fc8138bb',\n",
       " '00486.c0a2036a3da75d6d5ac6d19ab4b3d6ec',\n",
       " '00487.139a2f4e8edbbdd64441536308169d74',\n",
       " '00488.29e96da757cc5566c848833e26abdd65',\n",
       " '00489.023c1d77de9365cad956a4c9118aee4b',\n",
       " '00490.f0020a3ea5546c122f688b39f4380c95',\n",
       " '00491.28cb63173ed4740180e45e6248db5584',\n",
       " '00492.73db79fb9ad03aff1e08deb73b83203c',\n",
       " '00493.1c5f59825f7a246187c137614fb1ea82',\n",
       " '00494.fd2efa67e63247ee89cdcf3a6fe7906d',\n",
       " '00495.e22a609b7dc412c120d09e11544c67fb',\n",
       " '00496.1a37de098f6c8847c3c7839d73cc7106',\n",
       " '00497.ebf699da617b11135f3aa9173b9781b9',\n",
       " '00498.48c3098854d339353f1a28a13b196017',\n",
       " '00499.988506a852cf86b396771a8bdc8cf839',\n",
       " '00500.85b72f09f6778a085dc8b6821965a76f']"
      ]
     },
     "execution_count": 10,
     "metadata": {},
     "output_type": "execute_result"
    }
   ],
   "source": [
    "spam_filenames"
   ]
  },
  {
   "cell_type": "code",
   "execution_count": 12,
   "metadata": {},
   "outputs": [
    {
     "data": {
      "text/plain": [
       "500"
      ]
     },
     "execution_count": 12,
     "metadata": {},
     "output_type": "execute_result"
    }
   ],
   "source": [
    "len(spam_filenames)"
   ]
  },
  {
   "cell_type": "code",
   "execution_count": 13,
   "metadata": {},
   "outputs": [],
   "source": [
    "import email\n",
    "import email.policy\n",
    "\n",
    "def load_email(is_spam, filename, spam_path=SPAM_PATH):\n",
    "    directory = \"spam\" if is_spam else \"easy_ham\"\n",
    "    with open(os.path.join(spam_path, directory, filename), \"rb\") as f:\n",
    "        return email.parser.BytesParser(policy=email.policy.default).parse(f)"
   ]
  },
  {
   "cell_type": "code",
   "execution_count": 14,
   "metadata": {},
   "outputs": [],
   "source": [
    "ham_emails = [load_email(is_spam=False, filename=name) for name in ham_filenames]\n",
    "spam_emails = [load_email(is_spam=True, filename=name) for name in spam_filenames]"
   ]
  },
  {
   "cell_type": "code",
   "execution_count": 15,
   "metadata": {},
   "outputs": [
    {
     "name": "stdout",
     "output_type": "stream",
     "text": [
      "Date:        Wed, 21 Aug 2002 10:54:46 -0500\n",
      "    From:        Chris Garrigues <cwg-dated-1030377287.06fa6d@DeepEddy.Com>\n",
      "    Message-ID:  <1029945287.4797.TMDA@deepeddy.vircio.com>\n",
      "\n",
      "\n",
      "  | I can't reproduce this error.\n",
      "\n",
      "For me it is very repeatable... (like every time, without fail).\n",
      "\n",
      "This is the debug log of the pick happening ...\n",
      "\n",
      "18:19:03 Pick_It {exec pick +inbox -list -lbrace -lbrace -subject ftp -rbrace -rbrace} {4852-4852 -sequence mercury}\n",
      "18:19:03 exec pick +inbox -list -lbrace -lbrace -subject ftp -rbrace -rbrace 4852-4852 -sequence mercury\n",
      "18:19:04 Ftoc_PickMsgs {{1 hit}}\n",
      "18:19:04 Marking 1 hits\n",
      "18:19:04 tkerror: syntax error in expression \"int ...\n",
      "\n",
      "Note, if I run the pick command by hand ...\n",
      "\n",
      "delta$ pick +inbox -list -lbrace -lbrace -subject ftp -rbrace -rbrace  4852-4852 -sequence mercury\n",
      "1 hit\n",
      "\n",
      "That's where the \"1 hit\" comes from (obviously).  The version of nmh I'm\n",
      "using is ...\n",
      "\n",
      "delta$ pick -version\n",
      "pick -- nmh-1.0.4 [compiled on fuchsia.cs.mu.OZ.AU at Sun Mar 17 14:55:56 ICT 2002]\n",
      "\n",
      "And the relevant part of my .mh_profile ...\n",
      "\n",
      "delta$ mhparam pick\n",
      "-seq sel -list\n",
      "\n",
      "\n",
      "Since the pick command works, the sequence (actually, both of them, the\n",
      "one that's explicit on the command line, from the search popup, and the\n",
      "one that comes from .mh_profile) do get created.\n",
      "\n",
      "kre\n",
      "\n",
      "ps: this is still using the version of the code form a day ago, I haven't\n",
      "been able to reach the cvs repository today (local routing issue I think).\n",
      "\n",
      "\n",
      "\n",
      "_______________________________________________\n",
      "Exmh-workers mailing list\n",
      "Exmh-workers@redhat.com\n",
      "https://listman.redhat.com/mailman/listinfo/exmh-workers\n"
     ]
    }
   ],
   "source": [
    "print(ham_emails[0].get_content().strip())"
   ]
  },
  {
   "cell_type": "markdown",
   "metadata": {},
   "source": [
    "## 以上获取数据解析邮件，拿到了数据集"
   ]
  },
  {
   "cell_type": "code",
   "execution_count": 16,
   "metadata": {},
   "outputs": [],
   "source": [
    "def get_email_structure(email):\n",
    "    if isinstance(email, str):\n",
    "        return email\n",
    "    payload = email.get_payload() #\n",
    "    if isinstance(payload, list):\n",
    "        return \"multipart({})\".format(\", \".join([\n",
    "            get_email_structure(sub_email)\n",
    "            for sub_email in payload\n",
    "        ]))\n",
    "    else:\n",
    "        return email.get_content_type()"
   ]
  },
  {
   "cell_type": "code",
   "execution_count": 17,
   "metadata": {},
   "outputs": [],
   "source": [
    "from collections import Counter\n",
    "\n",
    "def structures_counter(emails):\n",
    "    structures = Counter()\n",
    "    for email in emails:\n",
    "        structure = get_email_structure(email)\n",
    "        structures[structure] += 1\n",
    "    return structures"
   ]
  },
  {
   "cell_type": "code",
   "execution_count": 20,
   "metadata": {},
   "outputs": [
    {
     "data": {
      "text/plain": [
       "[('text/plain', 2408),\n",
       " ('multipart(text/plain, application/pgp-signature)', 66),\n",
       " ('multipart(text/plain, text/html)', 8),\n",
       " ('multipart(text/plain, text/plain)', 4),\n",
       " ('multipart(text/plain)', 3),\n",
       " ('multipart(text/plain, application/octet-stream)', 2),\n",
       " ('multipart(text/plain, text/enriched)', 1),\n",
       " ('multipart(text/plain, application/ms-tnef, text/plain)', 1),\n",
       " ('multipart(multipart(text/plain, text/plain, text/plain), application/pgp-signature)',\n",
       "  1),\n",
       " ('multipart(text/plain, video/mng)', 1),\n",
       " ('multipart(text/plain, multipart(text/plain))', 1),\n",
       " ('multipart(text/plain, application/x-pkcs7-signature)', 1),\n",
       " ('multipart(text/plain, multipart(text/plain, text/plain), text/rfc822-headers)',\n",
       "  1),\n",
       " ('multipart(text/plain, multipart(text/plain, text/plain), multipart(multipart(text/plain, application/x-pkcs7-signature)))',\n",
       "  1),\n",
       " ('multipart(text/plain, application/x-java-applet)', 1)]"
      ]
     },
     "execution_count": 20,
     "metadata": {},
     "output_type": "execute_result"
    }
   ],
   "source": [
    "structures_counter(ham_emails).most_common()"
   ]
  },
  {
   "cell_type": "code",
   "execution_count": 21,
   "metadata": {},
   "outputs": [
    {
     "data": {
      "text/plain": [
       "[('text/plain', 218),\n",
       " ('text/html', 183),\n",
       " ('multipart(text/plain, text/html)', 45),\n",
       " ('multipart(text/html)', 20),\n",
       " ('multipart(text/plain)', 19),\n",
       " ('multipart(multipart(text/html))', 5),\n",
       " ('multipart(text/plain, image/jpeg)', 3),\n",
       " ('multipart(text/html, application/octet-stream)', 2),\n",
       " ('multipart(text/plain, application/octet-stream)', 1),\n",
       " ('multipart(text/html, text/plain)', 1),\n",
       " ('multipart(multipart(text/html), application/octet-stream, image/jpeg)', 1),\n",
       " ('multipart(multipart(text/plain, text/html), image/gif)', 1),\n",
       " ('multipart/alternative', 1)]"
      ]
     },
     "execution_count": 21,
     "metadata": {},
     "output_type": "execute_result"
    }
   ],
   "source": [
    "structures_counter(spam_emails).most_common()"
   ]
  },
  {
   "cell_type": "code",
   "execution_count": 22,
   "metadata": {},
   "outputs": [
    {
     "name": "stdout",
     "output_type": "stream",
     "text": [
      "Return-Path : <12a1mailbot1@web.de>\n",
      "Delivered-To : zzzz@localhost.spamassassin.taint.org\n",
      "Received : from localhost (localhost [127.0.0.1])\tby phobos.labs.spamassassin.taint.org (Postfix) with ESMTP id 136B943C32\tfor <zzzz@localhost>; Thu, 22 Aug 2002 08:17:21 -0400 (EDT)\n",
      "Received : from mail.webnote.net [193.120.211.219]\tby localhost with POP3 (fetchmail-5.9.0)\tfor zzzz@localhost (single-drop); Thu, 22 Aug 2002 13:17:21 +0100 (IST)\n",
      "Received : from dd_it7 ([210.97.77.167])\tby webnote.net (8.9.3/8.9.3) with ESMTP id NAA04623\tfor <zzzz@spamassassin.taint.org>; Thu, 22 Aug 2002 13:09:41 +0100\n",
      "From : 12a1mailbot1@web.de\n",
      "Received : from r-smtp.korea.com - 203.122.2.197 by dd_it7  with Microsoft SMTPSVC(5.5.1775.675.6);\t Sat, 24 Aug 2002 09:42:10 +0900\n",
      "To : dcek1a1@netsgo.com\n",
      "Subject : Life Insurance - Why Pay More?\n",
      "Date : Wed, 21 Aug 2002 20:31:57 -1600\n",
      "MIME-Version : 1.0\n",
      "Message-ID : <0103c1042001882DD_IT7@dd_it7>\n",
      "Content-Type : text/html; charset=\"iso-8859-1\"\n",
      "Content-Transfer-Encoding : quoted-printable\n"
     ]
    }
   ],
   "source": [
    "for header, value in spam_emails[0].items():\n",
    "    print(header,\":\",value)"
   ]
  },
  {
   "cell_type": "code",
   "execution_count": 23,
   "metadata": {},
   "outputs": [
    {
     "data": {
      "text/plain": [
       "'Life Insurance - Why Pay More?'"
      ]
     },
     "execution_count": 23,
     "metadata": {},
     "output_type": "execute_result"
    }
   ],
   "source": [
    "spam_emails[0][\"Subject\"]"
   ]
  },
  {
   "cell_type": "code",
   "execution_count": 24,
   "metadata": {},
   "outputs": [],
   "source": [
    "import numpy as np\n",
    "from sklearn.model_selection import train_test_split\n",
    "\n",
    "X = np.array(ham_emails + spam_emails)\n",
    "y = np.array([0] * len(ham_emails) + [1] * len(spam_emails))\n",
    "\n",
    "X_train, X_test, y_train, y_test = train_test_split(X, y, test_size=0.2, random_state=42)"
   ]
  },
  {
   "cell_type": "code",
   "execution_count": 25,
   "metadata": {},
   "outputs": [],
   "source": [
    "import re\n",
    "from html import unescape\n",
    "\n",
    "def html_to_plain_text(html):\n",
    "    text = re.sub('<head.*?>.*?</head>', '', html, flags=re.M | re.S | re.I)\n",
    "    text = re.sub('<a\\s.*?>', ' HYPERLINK ', text, flags=re.M | re.S | re.I)\n",
    "    text = re.sub('<.*?>', '', text, flags=re.M | re.S)\n",
    "    text = re.sub(r'(\\s*\\n)+', '\\n', text, flags=re.M | re.S)\n",
    "    return unescape(text)"
   ]
  },
  {
   "cell_type": "code",
   "execution_count": 28,
   "metadata": {},
   "outputs": [
    {
     "name": "stdout",
     "output_type": "stream",
     "text": [
      "<p>We thank you for just a moment of your time.  NextResearch is inviting you to join a panel of consumer electronics users now being created to help manufacturers, network programmers, and entertainment companies shape their future offerings.  In exchange for your willingness to participate, there will be prizes and incentives awarded. ALL CONTACT INFORMATION WILL BE HELD IN STRICTEST CONFIDENCE AND WE WILL NEVER TRY TO SELL YOU ANYTHING.  You will be able to opt-out of the panel at any time.</p> \n",
      "\t\t\t\t\tPlease click here <a href=http://65.19.137.17/nextresearch/nr.htm>http://65.19.137.17/nextresearch/nr.htm</a> if you would like to participate in your first survey and earn a chance to win one of 25 new Digital Video Recorders being awarded in September!  (You do not have to join the panel to participate in this survey.) This is a national market research program conducted with the highest ethical standards. Feel free to contact program director, Jennifer Choate at 901.491.4995 with any ...\n"
     ]
    }
   ],
   "source": [
    "html_spam_emails = [email for email in X_train[y_train==1]\n",
    "                    if get_email_structure(email) == \"text/html\"]\n",
    "sample_html_spam = html_spam_emails[3]\n",
    "print(sample_html_spam.get_content().strip()[:1000], \"...\")"
   ]
  },
  {
   "cell_type": "code",
   "execution_count": 29,
   "metadata": {},
   "outputs": [
    {
     "name": "stdout",
     "output_type": "stream",
     "text": [
      " We thank you for just a moment of your time.  NextResearch is inviting you to join a panel of consumer electronics users now being created to help manufacturers, network programmers, and entertainment companies shape their future offerings.  In exchange for your willingness to participate, there will be prizes and incentives awarded. ALL CONTACT INFORMATION WILL BE HELD IN STRICTEST CONFIDENCE AND WE WILL NEVER TRY TO SELL YOU ANYTHING.  You will be able to opt-out of the panel at any time.\n",
      "\t\t\t\t\tPlease click here  HYPERLINK http://65.19.137.17/nextresearch/nr.htm if you would like to participate in your first survey and earn a chance to win one of 25 new Digital Video Recorders being awarded in September!  (You do not have to join the panel to participate in this survey.) This is a national market research program conducted with the highest ethical standards. Feel free to contact program director, Jennifer Choate at 901.491.4995 with any questions.  To unsubscribe from this list, simp ...\n"
     ]
    }
   ],
   "source": [
    "print(html_to_plain_text(sample_html_spam.get_content())[:1000], \"...\")"
   ]
  },
  {
   "cell_type": "code",
   "execution_count": 30,
   "metadata": {},
   "outputs": [],
   "source": [
    "def email_to_text(email):\n",
    "    html = None\n",
    "    for part in email.walk():\n",
    "        ctype = part.get_content_type()\n",
    "        if not ctype in (\"text/plain\", \"text/html\"):\n",
    "            continue\n",
    "        try:\n",
    "            content = part.get_content()\n",
    "        except: # in case of encoding issues\n",
    "            content = str(part.get_payload())\n",
    "        if ctype == \"text/plain\":\n",
    "            return content\n",
    "        else:\n",
    "            html = content\n",
    "    if html:\n",
    "        return html_to_plain_text(html)"
   ]
  },
  {
   "cell_type": "code",
   "execution_count": 31,
   "metadata": {},
   "outputs": [
    {
     "name": "stdout",
     "output_type": "stream",
     "text": [
      " We thank you for just a moment of your time.  NextResearch is inviting you to join a panel of consu ...\n"
     ]
    }
   ],
   "source": [
    "print(email_to_text(sample_html_spam)[:100], \"...\")"
   ]
  },
  {
   "cell_type": "code",
   "execution_count": 32,
   "metadata": {},
   "outputs": [
    {
     "name": "stdout",
     "output_type": "stream",
     "text": [
      "Computations => comput\n",
      "Computation => comput\n",
      "Computing => comput\n",
      "Computed => comput\n",
      "Compute => comput\n",
      "Compulsive => compuls\n"
     ]
    }
   ],
   "source": [
    "try:\n",
    "    import nltk\n",
    "\n",
    "    stemmer = nltk.PorterStemmer()\n",
    "    for word in (\"Computations\", \"Computation\", \"Computing\", \"Computed\", \"Compute\", \"Compulsive\"):\n",
    "        print(word, \"=>\", stemmer.stem(word))\n",
    "except ImportError:\n",
    "    print(\"Error: stemming requires the NLTK module.\")\n",
    "    stemmer = None"
   ]
  },
  {
   "cell_type": "code",
   "execution_count": 35,
   "metadata": {},
   "outputs": [],
   "source": [
    "try:\n",
    "    import google.colab\n",
    "    !pip install -q -U urlextract\n",
    "except ImportError:\n",
    "    pass # not running on Colab"
   ]
  },
  {
   "cell_type": "code",
   "execution_count": 37,
   "metadata": {},
   "outputs": [
    {
     "name": "stdout",
     "output_type": "stream",
     "text": [
      "['github.com', 'https://youtu.be/7Pq-S557XQU?t=3m32s']\n"
     ]
    }
   ],
   "source": [
    "try:\n",
    "    import urlextract # may require an Internet connection to download root domain names\n",
    "    \n",
    "    url_extractor = urlextract.URLExtract()\n",
    "    print(url_extractor.find_urls(\"Will it detect github.com and https://youtu.be/7Pq-S557XQU?t=3m32s\"))\n",
    "except ImportError:\n",
    "    print(\"Error: replacing URLs requires the urlextract module.\")\n",
    "    url_extractor = None"
   ]
  },
  {
   "cell_type": "code",
   "execution_count": 38,
   "metadata": {},
   "outputs": [],
   "source": [
    "from sklearn.base import BaseEstimator, TransformerMixin\n",
    "\n",
    "class EmailToWordCounterTransformer(BaseEstimator, TransformerMixin):\n",
    "    def __init__(self, strip_headers=True, lower_case=True, remove_punctuation=True,\n",
    "                 replace_urls=True, replace_numbers=True, stemming=True):\n",
    "        self.strip_headers = strip_headers\n",
    "        self.lower_case = lower_case\n",
    "        self.remove_punctuation = remove_punctuation\n",
    "        self.replace_urls = replace_urls\n",
    "        self.replace_numbers = replace_numbers\n",
    "        self.stemming = stemming\n",
    "    def fit(self, X, y=None):\n",
    "        return self\n",
    "    def transform(self, X, y=None):\n",
    "        X_transformed = []\n",
    "        for email in X:\n",
    "            text = email_to_text(email) or \"\"\n",
    "            if self.lower_case:\n",
    "                text = text.lower()\n",
    "            if self.replace_urls and url_extractor is not None:\n",
    "                urls = list(set(url_extractor.find_urls(text)))\n",
    "                urls.sort(key=lambda url: len(url), reverse=True)\n",
    "                for url in urls:\n",
    "                    text = text.replace(url, \" URL \")\n",
    "            if self.replace_numbers:\n",
    "                text = re.sub(r'\\d+(?:\\.\\d*(?:[eE]\\d+))?', 'NUMBER', text)\n",
    "            if self.remove_punctuation:\n",
    "                text = re.sub(r'\\W+', ' ', text, flags=re.M)\n",
    "            word_counts = Counter(text.split())\n",
    "            if self.stemming and stemmer is not None:\n",
    "                stemmed_word_counts = Counter()\n",
    "                for word, count in word_counts.items():\n",
    "                    stemmed_word = stemmer.stem(word)\n",
    "                    stemmed_word_counts[stemmed_word] += count\n",
    "                word_counts = stemmed_word_counts\n",
    "            X_transformed.append(word_counts)\n",
    "        return np.array(X_transformed)"
   ]
  },
  {
   "cell_type": "code",
   "execution_count": 39,
   "metadata": {},
   "outputs": [
    {
     "data": {
      "text/plain": [
       "array([Counter({'chuck': 1, 'murcko': 1, 'wrote': 1, 'stuff': 1, 'yawn': 1, 'r': 1}),\n",
       "       Counter({'the': 11, 'of': 9, 'and': 8, 'all': 3, 'christian': 3, 'to': 3, 'by': 3, 'jefferson': 2, 'i': 2, 'have': 2, 'superstit': 2, 'one': 2, 'on': 2, 'been': 2, 'ha': 2, 'half': 2, 'rogueri': 2, 'teach': 2, 'jesu': 2, 'some': 1, 'interest': 1, 'quot': 1, 'url': 1, 'thoma': 1, 'examin': 1, 'known': 1, 'word': 1, 'do': 1, 'not': 1, 'find': 1, 'in': 1, 'our': 1, 'particular': 1, 'redeem': 1, 'featur': 1, 'they': 1, 'are': 1, 'alik': 1, 'found': 1, 'fabl': 1, 'mytholog': 1, 'million': 1, 'innoc': 1, 'men': 1, 'women': 1, 'children': 1, 'sinc': 1, 'introduct': 1, 'burnt': 1, 'tortur': 1, 'fine': 1, 'imprison': 1, 'what': 1, 'effect': 1, 'thi': 1, 'coercion': 1, 'make': 1, 'world': 1, 'fool': 1, 'other': 1, 'hypocrit': 1, 'support': 1, 'error': 1, 'over': 1, 'earth': 1, 'six': 1, 'histor': 1, 'american': 1, 'john': 1, 'e': 1, 'remsburg': 1, 'letter': 1, 'william': 1, 'short': 1, 'again': 1, 'becom': 1, 'most': 1, 'pervert': 1, 'system': 1, 'that': 1, 'ever': 1, 'shone': 1, 'man': 1, 'absurd': 1, 'untruth': 1, 'were': 1, 'perpetr': 1, 'upon': 1, 'a': 1, 'larg': 1, 'band': 1, 'dupe': 1, 'import': 1, 'led': 1, 'paul': 1, 'first': 1, 'great': 1, 'corrupt': 1}),\n",
       "       Counter({'url': 4, 's': 3, 'group': 3, 'to': 3, 'in': 2, 'forteana': 2, 'martin': 2, 'an': 2, 'and': 2, 'we': 2, 'is': 2, 'yahoo': 2, 'unsubscrib': 2, 'y': 1, 'adamson': 1, 'wrote': 1, 'for': 1, 'altern': 1, 'rather': 1, 'more': 1, 'factual': 1, 'base': 1, 'rundown': 1, 'on': 1, 'hamza': 1, 'career': 1, 'includ': 1, 'hi': 1, 'belief': 1, 'that': 1, 'all': 1, 'non': 1, 'muslim': 1, 'yemen': 1, 'should': 1, 'be': 1, 'murder': 1, 'outright': 1, 'know': 1, 'how': 1, 'unbias': 1, 'memri': 1, 'don': 1, 't': 1, 'html': 1, 'rob': 1, 'sponsor': 1, 'number': 1, 'dvd': 1, 'free': 1, 'p': 1, 'join': 1, 'now': 1, 'from': 1, 'thi': 1, 'send': 1, 'email': 1, 'egroup': 1, 'com': 1, 'your': 1, 'use': 1, 'of': 1, 'subject': 1})],\n",
       "      dtype=object)"
      ]
     },
     "execution_count": 39,
     "metadata": {},
     "output_type": "execute_result"
    }
   ],
   "source": [
    "X_few = X_train[:3]\n",
    "X_few_wordcounts = EmailToWordCounterTransformer().fit_transform(X_few)\n",
    "X_few_wordcounts"
   ]
  },
  {
   "cell_type": "code",
   "execution_count": 40,
   "metadata": {},
   "outputs": [],
   "source": [
    "from scipy.sparse import csr_matrix\n",
    "\n",
    "class WordCounterToVectorTransformer(BaseEstimator, TransformerMixin):\n",
    "    def __init__(self, vocabulary_size=1000):\n",
    "        self.vocabulary_size = vocabulary_size\n",
    "    def fit(self, X, y=None):\n",
    "        total_count = Counter()\n",
    "        for word_count in X:\n",
    "            for word, count in word_count.items():\n",
    "                total_count[word] += min(count, 10)\n",
    "        most_common = total_count.most_common()[:self.vocabulary_size]\n",
    "        self.most_common_ = most_common\n",
    "        self.vocabulary_ = {word: index + 1 for index, (word, count) in enumerate(most_common)}\n",
    "        return self\n",
    "    def transform(self, X, y=None):\n",
    "        rows = []\n",
    "        cols = []\n",
    "        data = []\n",
    "        for row, word_count in enumerate(X):\n",
    "            for word, count in word_count.items():\n",
    "                rows.append(row)\n",
    "                cols.append(self.vocabulary_.get(word, 0))\n",
    "                data.append(count)\n",
    "        return csr_matrix((data, (rows, cols)), shape=(len(X), self.vocabulary_size + 1))"
   ]
  },
  {
   "cell_type": "code",
   "execution_count": 41,
   "metadata": {},
   "outputs": [
    {
     "data": {
      "text/plain": [
       "<3x11 sparse matrix of type '<class 'numpy.int32'>'\n",
       "\twith 20 stored elements in Compressed Sparse Row format>"
      ]
     },
     "execution_count": 41,
     "metadata": {},
     "output_type": "execute_result"
    }
   ],
   "source": [
    "vocab_transformer = WordCounterToVectorTransformer(vocabulary_size=10)\n",
    "X_few_vectors = vocab_transformer.fit_transform(X_few_wordcounts)\n",
    "X_few_vectors"
   ]
  },
  {
   "cell_type": "code",
   "execution_count": 42,
   "metadata": {},
   "outputs": [
    {
     "data": {
      "text/plain": [
       "array([[ 6,  0,  0,  0,  0,  0,  0,  0,  0,  0,  0],\n",
       "       [99, 11,  9,  8,  3,  1,  3,  1,  3,  2,  3],\n",
       "       [67,  0,  1,  2,  3,  4,  1,  2,  0,  1,  0]], dtype=int32)"
      ]
     },
     "execution_count": 42,
     "metadata": {},
     "output_type": "execute_result"
    }
   ],
   "source": [
    "X_few_vectors.toarray()"
   ]
  },
  {
   "cell_type": "code",
   "execution_count": 43,
   "metadata": {},
   "outputs": [
    {
     "data": {
      "text/plain": [
       "{'the': 1,\n",
       " 'of': 2,\n",
       " 'and': 3,\n",
       " 'to': 4,\n",
       " 'url': 5,\n",
       " 'all': 6,\n",
       " 'in': 7,\n",
       " 'christian': 8,\n",
       " 'on': 9,\n",
       " 'by': 10}"
      ]
     },
     "execution_count": 43,
     "metadata": {},
     "output_type": "execute_result"
    }
   ],
   "source": [
    "vocab_transformer.vocabulary_"
   ]
  },
  {
   "cell_type": "code",
   "execution_count": 44,
   "metadata": {},
   "outputs": [],
   "source": [
    "from sklearn.pipeline import Pipeline\n",
    "\n",
    "preprocess_pipeline = Pipeline([\n",
    "    (\"email_to_wordcount\", EmailToWordCounterTransformer()),\n",
    "    (\"wordcount_to_vector\", WordCounterToVectorTransformer()),\n",
    "])\n",
    "\n",
    "X_train_transformed = preprocess_pipeline.fit_transform(X_train)"
   ]
  },
  {
   "cell_type": "code",
   "execution_count": 45,
   "metadata": {},
   "outputs": [
    {
     "name": "stderr",
     "output_type": "stream",
     "text": [
      "[Parallel(n_jobs=1)]: Using backend SequentialBackend with 1 concurrent workers.\n"
     ]
    },
    {
     "name": "stdout",
     "output_type": "stream",
     "text": [
      "[CV]  ................................................................\n"
     ]
    },
    {
     "name": "stderr",
     "output_type": "stream",
     "text": [
      "C:\\ProgramData\\Anaconda3\\lib\\site-packages\\sklearn\\linear_model\\logistic.py:947: ConvergenceWarning: lbfgs failed to converge. Increase the number of iterations.\n",
      "  \"of iterations.\", ConvergenceWarning)\n",
      "[Parallel(n_jobs=1)]: Done   1 out of   1 | elapsed:    0.4s remaining:    0.0s\n",
      "C:\\ProgramData\\Anaconda3\\lib\\site-packages\\sklearn\\linear_model\\logistic.py:947: ConvergenceWarning: lbfgs failed to converge. Increase the number of iterations.\n",
      "  \"of iterations.\", ConvergenceWarning)\n",
      "[Parallel(n_jobs=1)]: Done   2 out of   2 | elapsed:    0.5s remaining:    0.0s\n",
      "C:\\ProgramData\\Anaconda3\\lib\\site-packages\\sklearn\\linear_model\\logistic.py:947: ConvergenceWarning: lbfgs failed to converge. Increase the number of iterations.\n",
      "  \"of iterations.\", ConvergenceWarning)\n"
     ]
    },
    {
     "name": "stdout",
     "output_type": "stream",
     "text": [
      "[CV] .................................... , score=0.981, total=   0.4s\n",
      "[CV]  ................................................................\n",
      "[CV] .................................... , score=0.984, total=   0.1s\n",
      "[CV]  ................................................................\n",
      "[CV] .................................... , score=0.990, total=   0.1s\n"
     ]
    },
    {
     "name": "stderr",
     "output_type": "stream",
     "text": [
      "[Parallel(n_jobs=1)]: Done   3 out of   3 | elapsed:    0.6s finished\n"
     ]
    },
    {
     "data": {
      "text/plain": [
       "0.985"
      ]
     },
     "execution_count": 45,
     "metadata": {},
     "output_type": "execute_result"
    }
   ],
   "source": [
    "from sklearn.linear_model import LogisticRegression\n",
    "from sklearn.model_selection import cross_val_score\n",
    "\n",
    "log_clf = LogisticRegression(solver=\"lbfgs\", random_state=42)\n",
    "score = cross_val_score(log_clf, X_train_transformed, y_train, cv=3, verbose=3)\n",
    "score.mean()"
   ]
  },
  {
   "cell_type": "code",
   "execution_count": 46,
   "metadata": {},
   "outputs": [
    {
     "name": "stdout",
     "output_type": "stream",
     "text": [
      "Precision: 96.88%\n",
      "Recall: 97.89%\n"
     ]
    },
    {
     "name": "stderr",
     "output_type": "stream",
     "text": [
      "C:\\ProgramData\\Anaconda3\\lib\\site-packages\\sklearn\\linear_model\\logistic.py:947: ConvergenceWarning: lbfgs failed to converge. Increase the number of iterations.\n",
      "  \"of iterations.\", ConvergenceWarning)\n"
     ]
    }
   ],
   "source": [
    "from sklearn.metrics import precision_score, recall_score\n",
    "\n",
    "X_test_transformed = preprocess_pipeline.transform(X_test)\n",
    "\n",
    "log_clf = LogisticRegression(solver=\"lbfgs\", random_state=42)\n",
    "log_clf.fit(X_train_transformed, y_train)\n",
    "\n",
    "y_pred = log_clf.predict(X_test_transformed)\n",
    "\n",
    "print(\"Precision: {:.2f}%\".format(100 * precision_score(y_test, y_pred)))\n",
    "print(\"Recall: {:.2f}%\".format(100 * recall_score(y_test, y_pred)))"
   ]
  },
  {
   "cell_type": "code",
   "execution_count": null,
   "metadata": {},
   "outputs": [],
   "source": []
  }
 ],
 "metadata": {
  "kernelspec": {
   "display_name": "Python 3",
   "language": "python",
   "name": "python3"
  },
  "language_info": {
   "codemirror_mode": {
    "name": "ipython",
    "version": 3
   },
   "file_extension": ".py",
   "mimetype": "text/x-python",
   "name": "python",
   "nbconvert_exporter": "python",
   "pygments_lexer": "ipython3",
   "version": "3.6.8"
  }
 },
 "nbformat": 4,
 "nbformat_minor": 2
}
